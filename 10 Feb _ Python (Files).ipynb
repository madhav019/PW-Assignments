{
 "cells": [
  {
   "cell_type": "markdown",
   "id": "9c61881e-b53d-4a8e-8edd-ff7dc194e310",
   "metadata": {},
   "source": [
    "#### 1. Which function is used to open a file? What are the different modes of opening a file? Explain each mode of file opening."
   ]
  },
  {
   "cell_type": "markdown",
   "id": "78646dc9-e8a2-40a8-9197-e0fc48394703",
   "metadata": {},
   "source": [
    "<code>__open()__</code> function is used to open a file in python. The open function takes two parameters; filename, and mode.\n",
    "\n",
    "1. There are four different methods (modes) for opening a file:\n",
    "\n",
    "    * \"r\" - Read - Default value. Opens a file for reading, error if the file does not exist\n",
    "\n",
    "    * \"a\" - Append - Opens a file for appending, creates the file if it does not exist\n",
    "\n",
    "    * \"w\" - Write - Opens a file for writing, creates the file if it does not exist\n",
    "\n",
    "    * \"x\" - Create - Creates the specified file, returns an error if the file exists\n",
    "\n",
    "2. In addition you can specify if the file should be handled as binary or text mode\n",
    "\n",
    "    * \"t\" - Text - Default value. Text mode\n",
    "\n",
    "    * \"b\" - Binary - Binary mode (e.g. images)"
   ]
  },
  {
   "cell_type": "markdown",
   "id": "e6b575f6-95f6-48fe-833f-7671d49c2d58",
   "metadata": {},
   "source": [
    "***\n",
    "<br>"
   ]
  },
  {
   "cell_type": "markdown",
   "id": "7fc82991-0611-4204-bd36-a2f285e5978b",
   "metadata": {},
   "source": [
    "#### 2. Why close() function is used? Why is it important to close a file?"
   ]
  },
  {
   "cell_type": "markdown",
   "id": "d42ef687-5b57-4404-b3f5-50708c77c8c6",
   "metadata": {},
   "source": [
    "In Python, the close() function is used to close a file that has been opened in the program. The purpose of closing a file is to free up system resources and ensure that any changes made to the file are saved properly.\n",
    "\n",
    "When a file is opened in a Python program, a file object is created which contains a reference to the file in the operating system. If the file object is not closed properly, the operating system may continue to hold onto the resources allocated to the file, such as memory and file descriptors. This can lead to issues such as memory leaks and other problems.\n",
    "\n",
    "Additionally, if the file is not closed properly, any changes made to the file may not be saved properly. This is because file writes are often buffered, which means that data is not immediately written to the file, but is instead stored in a buffer in memory until it is written out. If the file is not closed properly, this buffer may not be flushed to disk, and changes made to the file may be lost."
   ]
  },
  {
   "cell_type": "markdown",
   "id": "0a4b9985-3202-4d19-bec7-8ed8b97c52f8",
   "metadata": {},
   "source": [
    "***\n",
    "<br>"
   ]
  },
  {
   "cell_type": "markdown",
   "id": "a52a193e-33bf-47a1-8875-0d0ae9658130",
   "metadata": {},
   "source": [
    "#### 3. Write a python program to create a text file. Write '__I want to become a Data Scientist__' in that file. Then close the file. Open this file and read the content of the file."
   ]
  },
  {
   "cell_type": "code",
   "execution_count": 4,
   "id": "422f98df-1882-4b5a-9d18-4fa583daad2c",
   "metadata": {},
   "outputs": [],
   "source": [
    "f = open('text.txt', 'w')\n",
    "f.write('I want to become a Data Scientist')\n",
    "f.close()"
   ]
  },
  {
   "cell_type": "code",
   "execution_count": 7,
   "id": "852ee5b6-a79d-4306-9e0d-cfe877d3b46e",
   "metadata": {},
   "outputs": [
    {
     "name": "stdout",
     "output_type": "stream",
     "text": [
      "I want to become a Data Scientist\n"
     ]
    }
   ],
   "source": [
    "f = open('text.txt', 'r')\n",
    "print(f.read())\n",
    "f.close()"
   ]
  },
  {
   "cell_type": "markdown",
   "id": "d1c1d1ce-4709-4b28-bfbd-8a32e597b14c",
   "metadata": {},
   "source": [
    "***\n",
    "<br>"
   ]
  },
  {
   "cell_type": "markdown",
   "id": "d4e9c7bf-7ef5-4966-ab85-a2ed893c489e",
   "metadata": {},
   "source": [
    "#### 4. Explain the following with python code: read(), readline() and readlines()."
   ]
  },
  {
   "cell_type": "code",
   "execution_count": 25,
   "id": "30ae11fe-fde7-4234-91aa-7e43a1f3c255",
   "metadata": {},
   "outputs": [],
   "source": [
    "f = open('text1.txt', 'w')\n",
    "f.writelines([\n",
    "    'This is line 1.\\n',\n",
    "    'This is line 2.\\n',\n",
    "    'This is line 3.'\n",
    "])\n",
    "f.close()"
   ]
  },
  {
   "cell_type": "markdown",
   "id": "77f565a5-d8e0-4b24-9de4-570ce48c93be",
   "metadata": {},
   "source": [
    "* __read()__ : This method reads the entire contents of a file and returns it as a single string. "
   ]
  },
  {
   "cell_type": "code",
   "execution_count": 26,
   "id": "c75fae76-32bd-46ac-987e-24bbd916d629",
   "metadata": {},
   "outputs": [
    {
     "name": "stdout",
     "output_type": "stream",
     "text": [
      "This is line 1.\n",
      "This is line 2.\n",
      "This is line 3.\n"
     ]
    }
   ],
   "source": [
    "f = open('text1.txt', 'r')\n",
    "print(f.read())"
   ]
  },
  {
   "cell_type": "markdown",
   "id": "c64afe59-6a99-4b87-afeb-edd65596f219",
   "metadata": {},
   "source": [
    "* __readline()__ :his method reads a single line from a file and returns it as a string. Each time the method is called, it reads the next line in the file."
   ]
  },
  {
   "cell_type": "code",
   "execution_count": 27,
   "id": "98bdd0a4-21a8-4da9-b9d9-5a8b51a329f7",
   "metadata": {},
   "outputs": [
    {
     "name": "stdout",
     "output_type": "stream",
     "text": [
      "This is line 1.\n",
      "This is line 2.\n",
      "This is line 3.\n"
     ]
    }
   ],
   "source": [
    "f = open('text1.txt', 'r')\n",
    "\n",
    "line = f.readline()\n",
    "while line:\n",
    "    print(line.replace('\\n', ''))\n",
    "    line = f.readline()\n",
    "\n",
    "f.close()"
   ]
  },
  {
   "cell_type": "markdown",
   "id": "2cc69b02-9b6a-4eb4-9209-e9f8a747b99b",
   "metadata": {},
   "source": [
    "* __readlines()__ : This method reads all of the lines from a file and returns them as a list of strings. Each line in the file is a separate string in the list. "
   ]
  },
  {
   "cell_type": "code",
   "execution_count": 28,
   "id": "e4b4b7f9-94ed-4581-b10f-97c9fe3b8730",
   "metadata": {},
   "outputs": [
    {
     "name": "stdout",
     "output_type": "stream",
     "text": [
      "This is line 1.\n",
      "This is line 2.\n",
      "This is line 3.\n"
     ]
    }
   ],
   "source": [
    "f = open('text1.txt', 'r')\n",
    "\n",
    "lines = f.readlines()\n",
    "for line in lines:\n",
    "    print(line.replace('\\n', ''))\n",
    "\n",
    "f.close()"
   ]
  },
  {
   "cell_type": "markdown",
   "id": "9132e1fb-7ae2-447e-bbbd-65e4e531fe3a",
   "metadata": {},
   "source": [
    "***\n",
    "<br>"
   ]
  },
  {
   "cell_type": "markdown",
   "id": "5fb81761-2533-4c79-b26e-623d7afbf69d",
   "metadata": {},
   "source": [
    "#### 5. Explain why with statement is used with open(). What is the advantage of using with statement and open() together?"
   ]
  },
  {
   "cell_type": "markdown",
   "id": "06c1ccf3-5fc4-4de7-9b5d-575671bc0cbd",
   "metadata": {},
   "source": [
    "The advantage of using the with statement and open() function together is that it simplifies the code and makes it more robust. When the with statement is used, the file is automatically closed as soon as the block of code inside the with statement is exited, even if an exception is raised. This eliminates the need to explicitly close the file using the close() method, which can be easily forgotten and can lead to bugs and resource leaks."
   ]
  },
  {
   "cell_type": "code",
   "execution_count": 31,
   "id": "9bd83566-e525-43e8-a06b-680e63ece580",
   "metadata": {},
   "outputs": [
    {
     "name": "stdout",
     "output_type": "stream",
     "text": [
      "This is line 1.\n",
      "This is line 2.\n",
      "This is line 3.\n"
     ]
    },
    {
     "ename": "ValueError",
     "evalue": "I/O operation on closed file.",
     "output_type": "error",
     "traceback": [
      "\u001b[0;31m---------------------------------------------------------------------------\u001b[0m",
      "\u001b[0;31mValueError\u001b[0m                                Traceback (most recent call last)",
      "Cell \u001b[0;32mIn [31], line 3\u001b[0m\n\u001b[1;32m      1\u001b[0m \u001b[38;5;28;01mwith\u001b[39;00m \u001b[38;5;28mopen\u001b[39m(\u001b[38;5;124m'\u001b[39m\u001b[38;5;124mtext1.txt\u001b[39m\u001b[38;5;124m'\u001b[39m, \u001b[38;5;124m'\u001b[39m\u001b[38;5;124mr\u001b[39m\u001b[38;5;124m'\u001b[39m) \u001b[38;5;28;01mas\u001b[39;00m f:\n\u001b[1;32m      2\u001b[0m     \u001b[38;5;28mprint\u001b[39m(f\u001b[38;5;241m.\u001b[39mread())\n\u001b[0;32m----> 3\u001b[0m \u001b[43mf\u001b[49m\u001b[38;5;241;43m.\u001b[39;49m\u001b[43mread\u001b[49m\u001b[43m(\u001b[49m\u001b[43m)\u001b[49m\n",
      "\u001b[0;31mValueError\u001b[0m: I/O operation on closed file."
     ]
    }
   ],
   "source": [
    "with open('text1.txt', 'r') as f:\n",
    "    print(f.read())\n",
    "f.read()"
   ]
  },
  {
   "cell_type": "markdown",
   "id": "dd08421a-3ebe-4091-beb1-d2cc2713a4b0",
   "metadata": {},
   "source": [
    "Here we can observe that the file object created using the open() function inside the with statement can only be accessed and read within the scope of the with block. Once the block is exited, the file object is automatically closed and cannot be accessed or read again."
   ]
  },
  {
   "cell_type": "markdown",
   "id": "db06268c-1f54-4654-8a7e-de1ba6387b34",
   "metadata": {},
   "source": [
    "***\n",
    "<br>"
   ]
  },
  {
   "cell_type": "markdown",
   "id": "1213748a-0b1c-4b50-8997-a7fe36bf70b4",
   "metadata": {},
   "source": [
    "#### 6. Explain the write() and writelines() functions. Give a suitable example."
   ]
  },
  {
   "cell_type": "markdown",
   "id": "2f21643a-e1e6-4610-bfe3-408fed73e036",
   "metadata": {},
   "source": [
    "* __write()__ method is used to write a single string to a file. If the file already exists, the content of the file will be overwritten. If the file does not exist, a new file will be created."
   ]
  },
  {
   "cell_type": "code",
   "execution_count": 35,
   "id": "01c6b598-0039-42bf-bc73-32bc05b149df",
   "metadata": {},
   "outputs": [
    {
     "name": "stdout",
     "output_type": "stream",
     "text": [
      "This is line 1.\n",
      "This is line 2.\n",
      "This is line 3.\n"
     ]
    }
   ],
   "source": [
    "with open('text2.txt', 'w') as f:\n",
    "    f.write('This is line 1.\\nThis is line 2.\\nThis is line 3.')\n",
    "\n",
    "with open('text2.txt', 'r') as f:\n",
    "    print(f.read())"
   ]
  },
  {
   "cell_type": "markdown",
   "id": "c41c62ac-4ac0-4145-9c8b-6d027c9463ec",
   "metadata": {},
   "source": [
    "* __writelines()__ method is used to write multiple lines to a file. It takes a list of strings as an argument and writes each string as a separate line to the file."
   ]
  },
  {
   "cell_type": "code",
   "execution_count": 37,
   "id": "c831b4b6-ab9d-48af-b55e-78dd7a3299fa",
   "metadata": {},
   "outputs": [
    {
     "name": "stdout",
     "output_type": "stream",
     "text": [
      "This is line 1.\n",
      "This is line 2.\n",
      "This is line 3.\n"
     ]
    }
   ],
   "source": [
    "with open('text3.txt', 'w') as f:\n",
    "    f.writelines([\n",
    "        'This is line 1.\\n', \n",
    "        'This is line 2.\\n', \n",
    "        'This is line 3.'\n",
    "    ])\n",
    "\n",
    "with open('text3.txt', 'r') as f:\n",
    "    print(f.read())"
   ]
  },
  {
   "cell_type": "markdown",
   "id": "e15fa893-0e9b-4bb3-9a3a-4371456352d5",
   "metadata": {},
   "source": [
    "***\n",
    "<br>"
   ]
  }
 ],
 "metadata": {
  "kernelspec": {
   "display_name": "Python 3 (ipykernel)",
   "language": "python",
   "name": "python3"
  },
  "language_info": {
   "codemirror_mode": {
    "name": "ipython",
    "version": 3
   },
   "file_extension": ".py",
   "mimetype": "text/x-python",
   "name": "python",
   "nbconvert_exporter": "python",
   "pygments_lexer": "ipython3",
   "version": "3.10.6"
  }
 },
 "nbformat": 4,
 "nbformat_minor": 5
}
