{
 "cells": [
  {
   "cell_type": "markdown",
   "id": "c4b6a8f2-1c16-4d21-8210-3b0ac95b3c94",
   "metadata": {},
   "source": [
    "### 1. Explain with an example each when to use a for loop and a while loop."
   ]
  },
  {
   "cell_type": "markdown",
   "id": "f0ae496a-0ae2-479f-a78e-94e74112cf6d",
   "metadata": {},
   "source": [
    "* **For Loop**: A for loop is an iteration method that is best used when you know the number of iterations ahead of time. It’s always followed by the initialization, expression and increment statements.\n",
    "* **While Loop**: A while loop is an iteration method that is best used when you don't know the number of iterations ahead of time. The contents of the loop are executed as long as the expression evaluates to true."
   ]
  },
  {
   "cell_type": "markdown",
   "id": "cf91bb92-98eb-4f5a-88d7-f19d47d5feb0",
   "metadata": {},
   "source": [
    "#### For Loop\n",
    "\n",
    "For loops are generally used when we have a specific range to traverse upon. Suppose we have a list of integers and we need to find the total count of even numbers in the list.\n",
    "In this case we already have the length of the list."
   ]
  },
  {
   "cell_type": "code",
   "execution_count": 24,
   "id": "eb307c21-eecd-4c0e-8fc5-7a52f79bd3a1",
   "metadata": {},
   "outputs": [
    {
     "data": {
      "text/plain": [
       "8"
      ]
     },
     "execution_count": 24,
     "metadata": {},
     "output_type": "execute_result"
    }
   ],
   "source": [
    "count = 0\n",
    "arr = [0, 0, 2, 3, 4, 6, 6, 8, 9, 10]\n",
    "\n",
    "for i in arr:\n",
    "    if not i&1:\n",
    "        count += 1\n",
    "\n",
    "count"
   ]
  },
  {
   "cell_type": "markdown",
   "id": "cbb7e6a1-3a04-40b4-bad9-6807f348524c",
   "metadata": {},
   "source": [
    "#### While Loop\n",
    "\n",
    "While loops are generally used when we are not sure of how long do we need to traverse, the condition is not standard or the condition depends on the user input. For Example we have 2 numbers **a** and **b** and we need keep squaring number **a** untill it becomes greater than or equals to **b**."
   ]
  },
  {
   "cell_type": "code",
   "execution_count": 25,
   "id": "4ba14650-30ce-493e-9872-9fdaa06a4b22",
   "metadata": {},
   "outputs": [
    {
     "data": {
      "text/plain": [
       "3"
      ]
     },
     "execution_count": 25,
     "metadata": {},
     "output_type": "execute_result"
    }
   ],
   "source": [
    "a = 5\n",
    "b = 15336\n",
    "\n",
    "count = 0\n",
    "\n",
    "while a < b:\n",
    "    a **= 2\n",
    "    count += 1\n",
    "\n",
    "count"
   ]
  },
  {
   "cell_type": "markdown",
   "id": "de24acec-56d2-46af-b87a-e76b7f404227",
   "metadata": {},
   "source": [
    "***\n",
    "<br>"
   ]
  },
  {
   "cell_type": "markdown",
   "id": "f396bbbb-8ebb-4a1f-a845-23dc4b5d76de",
   "metadata": {},
   "source": [
    "### 2. Write a python program to print the sum and product of the first 10 natural numbers using for and while loop.\n",
    "\n"
   ]
  },
  {
   "cell_type": "code",
   "execution_count": 26,
   "id": "5acc3851-2bb9-4771-9700-76716ce2407e",
   "metadata": {},
   "outputs": [
    {
     "name": "stdout",
     "output_type": "stream",
     "text": [
      "For Loop\n",
      "Sum :: 55\n",
      "Product :: 3628800\n",
      "\n",
      "While Loop\n",
      "Sum :: 55\n",
      "Product :: 3628800\n"
     ]
    }
   ],
   "source": [
    "sum_for = 0\n",
    "product_for = 1\n",
    "sum_while = 0\n",
    "product_while = 1\n",
    "\n",
    "for i in range(1, 11):\n",
    "    sum_for += i\n",
    "    product_for *= i\n",
    "    \n",
    "i = 1\n",
    "while i <= 10:\n",
    "    sum_while += i\n",
    "    product_while *= i\n",
    "    i += 1\n",
    "\n",
    "print(\"For Loop\")\n",
    "print(f\"Sum :: {sum_for}\")\n",
    "print(f\"Product :: {product_for}\")\n",
    "\n",
    "print()\n",
    "\n",
    "print(\"While Loop\")\n",
    "print(f\"Sum :: {sum_while}\")\n",
    "print(f\"Product :: {product_while}\")"
   ]
  },
  {
   "cell_type": "markdown",
   "id": "9dee02ff-f7c5-406c-bb4f-9107e84086b7",
   "metadata": {},
   "source": [
    "***\n",
    "<br>"
   ]
  },
  {
   "cell_type": "markdown",
   "id": "fbf09a04-be6d-4769-b424-f0668ff93ab5",
   "metadata": {},
   "source": [
    "### 3. Create a python program to compute the electricity bill for a household. \n",
    "\n",
    "The per-unit charges in rupees are as follows:<br>\n",
    "For the first 100 units, the user will be charged Rs.4.5 per unit, for the next 100 units, the user will be charged Rs. 6 per unit, and for the next 100 units, the user will be charged Rs. 10 per unit, After 300 units and above the user will be charged Rs. 20 per unit.\n",
    "\n",
    "You are required to take the units of electricity consumed in a month from the user as input.\n",
    "\n",
    "Your program must pass this test case: when the unit of electricity consumed by the user in a month is 310, the total electricity bill should be 2250.\n",
    "\n"
   ]
  },
  {
   "cell_type": "code",
   "execution_count": 27,
   "id": "00e99f25-b374-4038-a8d6-f52fa355497b",
   "metadata": {},
   "outputs": [
    {
     "name": "stdin",
     "output_type": "stream",
     "text": [
      "Enter units consumed(per month) :: 310\n"
     ]
    },
    {
     "name": "stdout",
     "output_type": "stream",
     "text": [
      "2250\n"
     ]
    }
   ],
   "source": [
    "units = int(input(\"Enter units consumed(per month) ::\"))\n",
    "\n",
    "if units <= 100:\n",
    "    print(units * 4.5)\n",
    "elif units > 100 and units <= 200:\n",
    "    print(450 + (units - 100) * 6)\n",
    "elif units > 200 and units <= 300:\n",
    "    print(450 + 600 + (units - 200) * 10)\n",
    "else:\n",
    "    print(450 + 600 + 1000 + (units - 300) * 20)"
   ]
  },
  {
   "cell_type": "markdown",
   "id": "fd5c3efd-483e-4280-b805-1d84d74a01c7",
   "metadata": {},
   "source": [
    "***\n",
    "<br>"
   ]
  },
  {
   "cell_type": "markdown",
   "id": "27091f11-d1a4-416d-9c3a-32e86ea77b32",
   "metadata": {},
   "source": [
    "### 4. Create a list of numbers from 1 to 100. Use for loop and while loop to calculate the cube of each number and if the cube of that number is divisible by 4 or 5 then append that number in a list and print that list.\n",
    "\n"
   ]
  },
  {
   "cell_type": "code",
   "execution_count": 28,
   "id": "44cabd54-e115-4847-9665-ab6b81bac49a",
   "metadata": {},
   "outputs": [
    {
     "name": "stdout",
     "output_type": "stream",
     "text": [
      "For Loop\n",
      "[2, 4, 5, 6, 8, 10, 12, 14, 15, 16, 18, 20, 22, 24, 25, 26, 28, 30, 32, 34, 35, 36, 38, 40, 42, 44, 45, 46, 48, 50, 52, 54, 55, 56, 58, 60, 62, 64, 65, 66, 68, 70, 72, 74, 75, 76, 78, 80, 82, 84, 85, 86, 88, 90, 92, 94, 95, 96, 98, 100]\n",
      "\n",
      "While Loop\n",
      "[2, 4, 5, 6, 8, 10, 12, 14, 15, 16, 18, 20, 22, 24, 25, 26, 28, 30, 32, 34, 35, 36, 38, 40, 42, 44, 45, 46, 48, 50, 52, 54, 55, 56, 58, 60, 62, 64, 65, 66, 68, 70, 72, 74, 75, 76, 78, 80, 82, 84, 85, 86, 88, 90, 92, 94, 95, 96, 98, 100]\n"
     ]
    }
   ],
   "source": [
    "ans_for = list()\n",
    "ans_while = list()\n",
    "\n",
    "for i in range(1, 101):\n",
    "    if i**3 % 4 == 0 or i**3 % 5 == 0:\n",
    "        ans_for.append(i)\n",
    "\n",
    "i = 1\n",
    "while i<= 100:\n",
    "    if i**3 % 4 == 0 or i**3 % 5 == 0:\n",
    "        ans_while.append(i)\n",
    "    i += 1\n",
    "\n",
    "print(f\"For Loop\\n{ans_for}\")\n",
    "print()\n",
    "print(f\"While Loop\\n{ans_while}\")"
   ]
  },
  {
   "cell_type": "markdown",
   "id": "3222dc72-1523-428f-89f5-d755d25b7d5b",
   "metadata": {},
   "source": [
    "***\n",
    "<br>"
   ]
  },
  {
   "cell_type": "markdown",
   "id": "0acfc7ce-316d-4de6-819a-183e48ceafe3",
   "metadata": {},
   "source": [
    "### 5. Write a program to filter count vowels in the below-given string. string = \"I want to become a data scientist\""
   ]
  },
  {
   "cell_type": "code",
   "execution_count": 29,
   "id": "cdea383d-532f-4f3b-ac45-790e41c55d8f",
   "metadata": {},
   "outputs": [
    {
     "name": "stdout",
     "output_type": "stream",
     "text": [
      "12\n"
     ]
    }
   ],
   "source": [
    "string = \"I want to become a data scientist\"\n",
    "count = 0\n",
    "\n",
    "for i in string:\n",
    "    if i.lower() in \"aeiou\":\n",
    "        count += 1\n",
    "\n",
    "print(count)"
   ]
  },
  {
   "cell_type": "markdown",
   "id": "8d5d72a7-d3ef-4f21-9f23-4afefa911469",
   "metadata": {},
   "source": [
    "***\n",
    "<br>"
   ]
  }
 ],
 "metadata": {
  "kernelspec": {
   "display_name": "Python 3 (ipykernel)",
   "language": "python",
   "name": "python3"
  },
  "language_info": {
   "codemirror_mode": {
    "name": "ipython",
    "version": 3
   },
   "file_extension": ".py",
   "mimetype": "text/x-python",
   "name": "python",
   "nbconvert_exporter": "python",
   "pygments_lexer": "ipython3",
   "version": "3.10.6"
  }
 },
 "nbformat": 4,
 "nbformat_minor": 5
}
