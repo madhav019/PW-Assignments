{
 "cells": [
  {
   "cell_type": "markdown",
   "id": "042e795e-90b2-403a-a241-8924a23773fa",
   "metadata": {},
   "source": [
    "#### 1. Explain why we have to use the Exception class while creating a Custom Exception.\n",
    "__Note__: Here Exception class refers to the base class for all the exceptions."
   ]
  },
  {
   "cell_type": "markdown",
   "id": "48e0941c-3537-4f25-9d24-eadc940c6256",
   "metadata": {},
   "source": [
    "The Exception class in Python serves as the base class for creating custom exceptions. It provides a set of useful methods and attributes for handling and processing exceptions. When creating a custom exception, it is crucial to inherit from the Exception class so that the new exception can take advantage of the behavior and methods provided by the base class. This enables the customization of the error message that is displayed when the exception is raised, as well as the definition of specific methods and properties for the new exception.\n",
    "\n",
    "Inheriting from the Exception class also ensures that the new exception is compatible with the existing exception handling mechanisms in Python. This means that it can be caught using a try-except block that is designed to handle exceptions of the Exception class or any of its subclasses.\n",
    "\n",
    "Overall, using the Exception class as the base class for creating custom exceptions provides a consistent and well-understood approach to handling errors and exceptions in Python."
   ]
  },
  {
   "cell_type": "markdown",
   "id": "11a55875-b0c3-4747-b1da-80b95f6de0b1",
   "metadata": {},
   "source": [
    "***\n",
    "<br>"
   ]
  },
  {
   "cell_type": "markdown",
   "id": "fa74107e-22e9-428f-b08d-8dec8893ab9e",
   "metadata": {},
   "source": [
    "#### 2. Write a python program to print Python Exception Hierarchy."
   ]
  },
  {
   "cell_type": "code",
   "execution_count": 70,
   "id": "c257f0df-bccb-4032-8e85-a1e0560744d8",
   "metadata": {},
   "outputs": [],
   "source": [
    "def printSubClasses(baseClass, depth=0):\n",
    "    if depth > 0:\n",
    "        print('-' * depth, baseClass.__name__)\n",
    "    for subClass in baseClass.__subclasses__():\n",
    "        printSubClasses(subClass, depth + 1)"
   ]
  },
  {
   "cell_type": "code",
   "execution_count": 71,
   "id": "b01939aa-c120-4e51-a67f-cbc4092ab9e2",
   "metadata": {},
   "outputs": [
    {
     "name": "stdout",
     "output_type": "stream",
     "text": [
      "- Exception\n",
      "-- TypeError\n",
      "--- FloatOperation\n",
      "--- MultipartConversionError\n",
      "-- StopAsyncIteration\n",
      "-- StopIteration\n",
      "-- ImportError\n",
      "--- ModuleNotFoundError\n",
      "--- ZipImportError\n",
      "-- OSError\n",
      "--- ConnectionError\n",
      "---- BrokenPipeError\n",
      "---- ConnectionAbortedError\n",
      "---- ConnectionRefusedError\n",
      "---- ConnectionResetError\n",
      "----- RemoteDisconnected\n",
      "--- BlockingIOError\n",
      "--- ChildProcessError\n",
      "--- FileExistsError\n",
      "--- FileNotFoundError\n",
      "--- IsADirectoryError\n",
      "--- NotADirectoryError\n",
      "--- InterruptedError\n",
      "---- InterruptedSystemCall\n",
      "--- PermissionError\n",
      "--- ProcessLookupError\n",
      "--- TimeoutError\n",
      "--- UnsupportedOperation\n",
      "--- itimer_error\n",
      "--- herror\n",
      "--- gaierror\n",
      "--- SSLError\n",
      "---- SSLCertVerificationError\n",
      "---- SSLZeroReturnError\n",
      "---- SSLWantWriteError\n",
      "---- SSLWantReadError\n",
      "---- SSLSyscallError\n",
      "---- SSLEOFError\n",
      "--- Error\n",
      "---- SameFileError\n",
      "--- SpecialFileError\n",
      "--- ExecError\n",
      "--- ReadError\n",
      "--- URLError\n",
      "---- HTTPError\n",
      "---- ContentTooShortError\n",
      "--- BadGzipFile\n",
      "-- EOFError\n",
      "--- IncompleteReadError\n",
      "-- RuntimeError\n",
      "--- RecursionError\n",
      "--- NotImplementedError\n",
      "---- ZMQVersionError\n",
      "---- StdinNotImplementedError\n",
      "--- _DeadlockError\n",
      "--- BrokenBarrierError\n",
      "--- BrokenExecutor\n",
      "---- BrokenThreadPool\n",
      "--- SendfileNotAvailableError\n",
      "--- ExtractionError\n",
      "--- VariableError\n",
      "-- NameError\n",
      "--- UnboundLocalError\n",
      "-- AttributeError\n",
      "--- FrozenInstanceError\n",
      "-- SyntaxError\n",
      "--- IndentationError\n",
      "---- TabError\n",
      "-- LookupError\n",
      "--- IndexError\n",
      "--- KeyError\n",
      "---- NoSuchKernel\n",
      "---- UnknownBackend\n",
      "--- CodecRegistryError\n",
      "-- ValueError\n",
      "--- UnicodeError\n",
      "---- UnicodeEncodeError\n",
      "---- UnicodeDecodeError\n",
      "---- UnicodeTranslateError\n",
      "--- UnsupportedOperation\n",
      "--- JSONDecodeError\n",
      "--- SSLCertVerificationError\n",
      "--- Error\n",
      "--- UnsupportedDigestmodError\n",
      "--- IllegalMonthError\n",
      "--- IllegalWeekdayError\n",
      "--- ParserError\n",
      "--- ClassNotFound\n",
      "--- ClipboardEmpty\n",
      "--- MessageDefect\n",
      "---- NoBoundaryInMultipartDefect\n",
      "---- StartBoundaryNotFoundDefect\n",
      "---- CloseBoundaryNotFoundDefect\n",
      "---- FirstHeaderLineIsContinuationDefect\n",
      "---- MisplacedEnvelopeHeaderDefect\n",
      "---- MissingHeaderBodySeparatorDefect\n",
      "---- MultipartInvariantViolationDefect\n",
      "---- InvalidMultipartContentTransferEncodingDefect\n",
      "---- UndecodableBytesDefect\n",
      "---- InvalidBase64PaddingDefect\n",
      "---- InvalidBase64CharactersDefect\n",
      "---- InvalidBase64LengthDefect\n",
      "---- HeaderDefect\n",
      "----- InvalidHeaderDefect\n",
      "----- HeaderMissingRequiredValue\n",
      "----- NonPrintableDefect\n",
      "----- ObsoleteHeaderDefect\n",
      "----- NonASCIILocalPartDefect\n",
      "----- InvalidDateDefect\n",
      "--- MacroToEdit\n",
      "--- InvalidFileException\n",
      "--- UnequalIterablesError\n",
      "--- InvalidVersion\n",
      "--- _InvalidELFFileHeader\n",
      "--- InvalidWheelFilename\n",
      "--- InvalidSdistFilename\n",
      "--- InvalidSpecifier\n",
      "--- InvalidMarker\n",
      "--- UndefinedComparison\n",
      "--- UndefinedEnvironmentName\n",
      "--- InvalidRequirement\n",
      "---- RequirementParseError\n",
      "--- InvalidVersion\n",
      "-- AssertionError\n",
      "-- ArithmeticError\n",
      "--- FloatingPointError\n",
      "--- OverflowError\n",
      "--- ZeroDivisionError\n",
      "---- DivisionByZero\n",
      "---- DivisionUndefined\n",
      "--- DecimalException\n",
      "---- Clamped\n",
      "---- Rounded\n",
      "----- Underflow\n",
      "----- Overflow\n",
      "---- Inexact\n",
      "----- Underflow\n",
      "----- Overflow\n",
      "---- Subnormal\n",
      "----- Underflow\n",
      "---- DivisionByZero\n",
      "---- FloatOperation\n",
      "---- InvalidOperation\n",
      "----- ConversionSyntax\n",
      "----- DivisionImpossible\n",
      "----- DivisionUndefined\n",
      "----- InvalidContext\n",
      "-- SystemError\n",
      "--- CodecRegistryError\n",
      "-- ReferenceError\n",
      "-- MemoryError\n",
      "-- BufferError\n",
      "-- Warning\n",
      "--- UserWarning\n",
      "---- GetPassWarning\n",
      "---- FormatterWarning\n",
      "--- EncodingWarning\n",
      "--- DeprecationWarning\n",
      "---- ProvisionalWarning\n",
      "--- PendingDeprecationWarning\n",
      "--- SyntaxWarning\n",
      "--- RuntimeWarning\n",
      "---- ProactorSelectorThreadWarning\n",
      "---- UnknownTimezoneWarning\n",
      "---- PEP440Warning\n",
      "--- FutureWarning\n",
      "---- ProvisionalCompleterWarning\n",
      "--- ImportWarning\n",
      "--- UnicodeWarning\n",
      "--- BytesWarning\n",
      "--- ResourceWarning\n",
      "--- DeprecatedTzFormatWarning\n",
      "--- PkgResourcesDeprecationWarning\n",
      "-- _OptionError\n",
      "-- _Error\n",
      "-- error\n",
      "-- Verbose\n",
      "-- Error\n",
      "-- SubprocessError\n",
      "--- CalledProcessError\n",
      "--- TimeoutExpired\n",
      "-- TokenError\n",
      "-- StopTokenizing\n",
      "-- ClassFoundException\n",
      "-- EndOfBlock\n",
      "-- TraitError\n",
      "-- Error\n",
      "-- Error\n",
      "--- CancelledError\n",
      "--- TimeoutError\n",
      "--- InvalidStateError\n",
      "-- _GiveupOnSendfile\n",
      "-- error\n",
      "-- Incomplete\n",
      "-- TimeoutError\n",
      "-- InvalidStateError\n",
      "-- LimitOverrunError\n",
      "-- QueueEmpty\n",
      "-- QueueFull\n",
      "-- Empty\n",
      "-- Full\n",
      "-- ArgumentError\n",
      "-- ZMQBaseError\n",
      "--- ZMQError\n",
      "---- ContextTerminated\n",
      "---- Again\n",
      "---- InterruptedSystemCall\n",
      "--- ZMQBindError\n",
      "--- NotDone\n",
      "-- PickleError\n",
      "--- PicklingError\n",
      "--- UnpicklingError\n",
      "-- _Stop\n",
      "-- ArgumentError\n",
      "-- ArgumentTypeError\n",
      "-- ConfigError\n",
      "--- ConfigLoaderError\n",
      "---- ArgumentError\n",
      "--- ConfigFileNotFound\n",
      "-- ConfigurableError\n",
      "--- MultipleInstanceError\n",
      "-- ApplicationError\n",
      "-- error\n",
      "-- TimeoutError\n",
      "-- error\n",
      "-- ReturnValueIgnoredError\n",
      "-- KeyReuseError\n",
      "-- UnknownKeyError\n",
      "-- LeakedCallbackError\n",
      "-- BadYieldError\n",
      "-- ReturnValueIgnoredError\n",
      "-- Return\n",
      "-- InvalidPortNumber\n",
      "-- error\n",
      "-- LZMAError\n",
      "-- RegistryError\n",
      "-- _GiveupOnFastCopy\n",
      "-- NoIPAddresses\n",
      "-- BadZipFile\n",
      "-- LargeZipFile\n",
      "-- Error\n",
      "--- NoSectionError\n",
      "--- DuplicateSectionError\n",
      "--- DuplicateOptionError\n",
      "--- NoOptionError\n",
      "--- InterpolationError\n",
      "---- InterpolationMissingOptionError\n",
      "---- InterpolationSyntaxError\n",
      "---- InterpolationDepthError\n",
      "--- ParsingError\n",
      "---- MissingSectionHeaderError\n",
      "-- BadEntryPoint\n",
      "-- NoSuchEntryPoint\n",
      "-- DuplicateKernelError\n",
      "-- ErrorDuringImport\n",
      "-- NotOneValueFound\n",
      "-- CannotEval\n",
      "-- OptionError\n",
      "-- BdbQuit\n",
      "-- Restart\n",
      "-- ExceptionPexpect\n",
      "--- EOF\n",
      "--- TIMEOUT\n",
      "-- PtyProcessError\n",
      "-- FindCmdError\n",
      "-- HomeDirError\n",
      "-- ProfileDirError\n",
      "-- IPythonCoreError\n",
      "--- TryNext\n",
      "--- UsageError\n",
      "--- StdinNotImplementedError\n",
      "-- InputRejected\n",
      "-- GetoptError\n",
      "-- ErrorToken\n",
      "-- PrefilterError\n",
      "-- AliasError\n",
      "--- InvalidAliasError\n",
      "-- Error\n",
      "--- InterfaceError\n",
      "--- DatabaseError\n",
      "---- InternalError\n",
      "---- OperationalError\n",
      "---- ProgrammingError\n",
      "---- IntegrityError\n",
      "---- DataError\n",
      "---- NotSupportedError\n",
      "-- Warning\n",
      "-- SpaceInInput\n",
      "-- DOMException\n",
      "--- IndexSizeErr\n",
      "--- DomstringSizeErr\n",
      "--- HierarchyRequestErr\n",
      "--- WrongDocumentErr\n",
      "--- InvalidCharacterErr\n",
      "--- NoDataAllowedErr\n",
      "--- NoModificationAllowedErr\n",
      "--- NotFoundErr\n",
      "--- NotSupportedErr\n",
      "--- InuseAttributeErr\n",
      "--- InvalidStateErr\n",
      "--- SyntaxErr\n",
      "--- InvalidModificationErr\n",
      "--- NamespaceErr\n",
      "--- InvalidAccessErr\n",
      "--- ValidationErr\n",
      "-- ValidationError\n",
      "-- EditReadOnlyBuffer\n",
      "-- _Retry\n",
      "-- InvalidLayoutError\n",
      "-- HeightIsUnknownError\n",
      "-- ParserSyntaxError\n",
      "-- InternalParseError\n",
      "-- _PositionUpdatingFinished\n",
      "-- SimpleGetItemNotFound\n",
      "-- UncaughtAttributeError\n",
      "-- HasNoContext\n",
      "-- ParamIssue\n",
      "-- _JediError\n",
      "--- InternalError\n",
      "--- WrongVersion\n",
      "--- RefactoringError\n",
      "-- OnErrorLeaf\n",
      "-- InvalidPythonEnvironment\n",
      "-- MessageError\n",
      "--- MessageParseError\n",
      "---- HeaderParseError\n",
      "---- BoundaryError\n",
      "--- MultipartConversionError\n",
      "--- CharsetError\n",
      "-- Error\n",
      "-- HTTPException\n",
      "--- NotConnected\n",
      "--- InvalidURL\n",
      "--- UnknownProtocol\n",
      "--- UnknownTransferEncoding\n",
      "--- UnimplementedFileMode\n",
      "--- IncompleteRead\n",
      "--- ImproperConnectionState\n",
      "---- CannotSendRequest\n",
      "---- CannotSendHeader\n",
      "---- ResponseNotReady\n",
      "--- BadStatusLine\n",
      "---- RemoteDisconnected\n",
      "--- LineTooLong\n",
      "-- InteractivelyDefined\n",
      "-- KillEmbedded\n",
      "-- Error\n",
      "--- NoSuchProcess\n",
      "---- ZombieProcess\n",
      "--- AccessDenied\n",
      "--- TimeoutExpired\n",
      "-- _Ipv6UnsupportedError\n",
      "-- QueueEmpty\n",
      "-- QueueFull\n",
      "-- DebuggerInitializationError\n",
      "-- ExpatError\n",
      "-- Error\n",
      "--- ProtocolError\n",
      "--- ResponseError\n",
      "--- Fault\n",
      "-- ParseBaseException\n",
      "--- ParseException\n",
      "--- ParseFatalException\n",
      "---- ParseSyntaxException\n",
      "-- RecursiveGrammarException\n",
      "-- ResolutionError\n",
      "--- VersionConflict\n",
      "---- ContextualVersionConflict\n",
      "--- DistributionNotFound\n",
      "--- UnknownExtra\n",
      "-- _Error\n",
      "-- UnableToResolveVariableException\n",
      "-- InvalidTypeInArgsException\n",
      "- GeneratorExit\n",
      "- SystemExit\n",
      "- KeyboardInterrupt\n",
      "- CancelledError\n",
      "- AbortThread\n"
     ]
    }
   ],
   "source": [
    "printSubClasses(BaseException)"
   ]
  },
  {
   "cell_type": "markdown",
   "id": "93605ff0-47cc-42c5-a8dd-c08d7706c3fb",
   "metadata": {},
   "source": [
    "***\n",
    "<br>"
   ]
  },
  {
   "cell_type": "markdown",
   "id": "3a54b92f-da76-4e3e-8c3d-5940fd9c2424",
   "metadata": {},
   "source": [
    "#### 3. What errors are defined in the ArithmeticError class? Explain any two with an example"
   ]
  },
  {
   "cell_type": "markdown",
   "id": "d6cad1ec-3544-48ad-b60b-bb80cdc8195f",
   "metadata": {},
   "source": [
    "The ArithmeticError class is a built-in exception class in Python that serves as the base class for a number of exception classes related to arithmetic errors. Some of the errors defined in this class include ZeroDivisionError, OverflowError, and FloatingPointError."
   ]
  },
  {
   "cell_type": "markdown",
   "id": "e6650c76-fe68-46aa-b880-6800b8a47afd",
   "metadata": {},
   "source": [
    "__ZeroDivisionError__: This error is raised when a division operation is attempted with a divisor of zero. "
   ]
  },
  {
   "cell_type": "code",
   "execution_count": 14,
   "id": "40ecd4f9-c698-473f-90de-5743de7d0328",
   "metadata": {},
   "outputs": [
    {
     "ename": "ZeroDivisionError",
     "evalue": "division by zero",
     "output_type": "error",
     "traceback": [
      "\u001b[0;31m---------------------------------------------------------------------------\u001b[0m",
      "\u001b[0;31mZeroDivisionError\u001b[0m                         Traceback (most recent call last)",
      "Cell \u001b[0;32mIn [14], line 3\u001b[0m\n\u001b[1;32m      1\u001b[0m x \u001b[38;5;241m=\u001b[39m \u001b[38;5;241m10\u001b[39m\n\u001b[1;32m      2\u001b[0m y \u001b[38;5;241m=\u001b[39m \u001b[38;5;241m0\u001b[39m\n\u001b[0;32m----> 3\u001b[0m z \u001b[38;5;241m=\u001b[39m \u001b[43mx\u001b[49m\u001b[43m \u001b[49m\u001b[38;5;241;43m/\u001b[39;49m\u001b[43m \u001b[49m\u001b[43my\u001b[49m\n",
      "\u001b[0;31mZeroDivisionError\u001b[0m: division by zero"
     ]
    }
   ],
   "source": [
    "x = 10\n",
    "y = 0\n",
    "z = x / y  # raises ZeroDivisionError"
   ]
  },
  {
   "cell_type": "markdown",
   "id": "a8ea970d-e8ae-42fa-8e01-0cbfb779ba84",
   "metadata": {},
   "source": [
    "<br>"
   ]
  },
  {
   "cell_type": "markdown",
   "id": "a8bd5066-b547-4009-b1fa-8f30d8d32a43",
   "metadata": {},
   "source": [
    "__OverflowError__: This error is raised when a calculation produces a number that is too large to be represented by the system. "
   ]
  },
  {
   "cell_type": "code",
   "execution_count": 15,
   "id": "be3c35ed-56e1-49d1-80da-2ad752b791a2",
   "metadata": {},
   "outputs": [
    {
     "ename": "OverflowError",
     "evalue": "math range error",
     "output_type": "error",
     "traceback": [
      "\u001b[0;31m---------------------------------------------------------------------------\u001b[0m",
      "\u001b[0;31mOverflowError\u001b[0m                             Traceback (most recent call last)",
      "Cell \u001b[0;32mIn [15], line 1\u001b[0m\n\u001b[0;32m----> 1\u001b[0m x \u001b[38;5;241m=\u001b[39m \u001b[43mmath\u001b[49m\u001b[38;5;241;43m.\u001b[39;49m\u001b[43mexp\u001b[49m\u001b[43m(\u001b[49m\u001b[38;5;241;43m1000\u001b[39;49m\u001b[43m)\u001b[49m\n",
      "\u001b[0;31mOverflowError\u001b[0m: math range error"
     ]
    }
   ],
   "source": [
    "x = math.exp(1000)"
   ]
  },
  {
   "cell_type": "markdown",
   "id": "00765e00-d760-4621-833b-8a4af2c16286",
   "metadata": {},
   "source": [
    "***\n",
    "<br>"
   ]
  },
  {
   "cell_type": "markdown",
   "id": "d508c426-a53f-40c7-99f4-bdcb7cfa3f0b",
   "metadata": {},
   "source": [
    "#### 4. Why LookupError class is used? Explain with an example KeyError and IndexError."
   ]
  },
  {
   "cell_type": "markdown",
   "id": "73661027-9187-48bb-a7d8-74d937a21bf2",
   "metadata": {},
   "source": [
    "__LookupError__ is a built-in Python exception class that serves as the base class for exceptions that occur when searching for an item in a collection. It is a subclass of the Exception class.\n",
    "\n",
    "LookupError is used when an item is not found in a collection such as a dictionary, list, tuple, or set. It is a general exception class that is used as a superclass for more specific exceptions that can occur during lookups, such as KeyError and IndexError.\n",
    "\n",
    "__KeyError__ is a specific exception that is raised when a key is not found in a dictionary. \n",
    "\n",
    "Similarly, __IndexError__ is raised when you try to access an index that is out of range of a list or tuple. "
   ]
  },
  {
   "cell_type": "code",
   "execution_count": 7,
   "id": "63356f11-eed5-430c-a74b-f457d2b5c157",
   "metadata": {},
   "outputs": [
    {
     "ename": "KeyError",
     "evalue": "'email'",
     "output_type": "error",
     "traceback": [
      "\u001b[0;31m---------------------------------------------------------------------------\u001b[0m",
      "\u001b[0;31mKeyError\u001b[0m                                  Traceback (most recent call last)",
      "Cell \u001b[0;32mIn [7], line 6\u001b[0m\n\u001b[1;32m      1\u001b[0m data \u001b[38;5;241m=\u001b[39m {\n\u001b[1;32m      2\u001b[0m     \u001b[38;5;124m'\u001b[39m\u001b[38;5;124mname\u001b[39m\u001b[38;5;124m'\u001b[39m : \u001b[38;5;124m'\u001b[39m\u001b[38;5;124mMadhav\u001b[39m\u001b[38;5;124m'\u001b[39m,\n\u001b[1;32m      3\u001b[0m     \u001b[38;5;124m'\u001b[39m\u001b[38;5;124mage\u001b[39m\u001b[38;5;124m'\u001b[39m : \u001b[38;5;241m23\u001b[39m\n\u001b[1;32m      4\u001b[0m }\n\u001b[0;32m----> 6\u001b[0m \u001b[38;5;28mprint\u001b[39m(\u001b[43mdata\u001b[49m\u001b[43m[\u001b[49m\u001b[38;5;124;43m'\u001b[39;49m\u001b[38;5;124;43memail\u001b[39;49m\u001b[38;5;124;43m'\u001b[39;49m\u001b[43m]\u001b[49m)\n",
      "\u001b[0;31mKeyError\u001b[0m: 'email'"
     ]
    }
   ],
   "source": [
    "data = {\n",
    "    'name' : 'Madhav',\n",
    "    'age' : 23\n",
    "}\n",
    "\n",
    "print(data['email'])"
   ]
  },
  {
   "cell_type": "code",
   "execution_count": 8,
   "id": "e33d36ee-82e8-4949-ab07-49ae29695c26",
   "metadata": {},
   "outputs": [
    {
     "ename": "IndexError",
     "evalue": "list index out of range",
     "output_type": "error",
     "traceback": [
      "\u001b[0;31m---------------------------------------------------------------------------\u001b[0m",
      "\u001b[0;31mIndexError\u001b[0m                                Traceback (most recent call last)",
      "Cell \u001b[0;32mIn [8], line 2\u001b[0m\n\u001b[1;32m      1\u001b[0m data \u001b[38;5;241m=\u001b[39m [\u001b[38;5;241m1\u001b[39m, \u001b[38;5;241m2\u001b[39m, \u001b[38;5;241m3\u001b[39m]\n\u001b[0;32m----> 2\u001b[0m \u001b[38;5;28mprint\u001b[39m(\u001b[43mdata\u001b[49m\u001b[43m[\u001b[49m\u001b[38;5;241;43m3\u001b[39;49m\u001b[43m]\u001b[49m)\n",
      "\u001b[0;31mIndexError\u001b[0m: list index out of range"
     ]
    }
   ],
   "source": [
    "data = [1, 2, 3]\n",
    "print(data[3])"
   ]
  },
  {
   "cell_type": "markdown",
   "id": "78bb27b3-ba79-42c0-aca2-3447f111c609",
   "metadata": {},
   "source": [
    "In both cases, the LookupError base class is not directly used. Instead, the more specific KeyError and IndexError exceptions are raised, which inherit from LookupError."
   ]
  },
  {
   "cell_type": "markdown",
   "id": "76bf7672-e458-4f4b-bc90-d3904c9702fa",
   "metadata": {},
   "source": [
    "***\n",
    "<br>"
   ]
  },
  {
   "cell_type": "markdown",
   "id": "68768ebf-03ec-4cdf-bfcc-dd327bd851f5",
   "metadata": {},
   "source": [
    "#### 5. Explain ImportError. What is ModuleNotFoundError?"
   ]
  },
  {
   "cell_type": "markdown",
   "id": "72fad86a-3ef2-43d6-a59b-3dc4a1dbc3f1",
   "metadata": {},
   "source": [
    "ImportError is a built-in Python exception that is raised when there is an error while importing a module. This can occur for a variety of reasons, such as a missing module or a syntax error in the module being imported.\n",
    "\n",
    "In Python 3.6 and later versions, a new exception class ModuleNotFoundError was added to indicate that a module was not found. This exception is a subclass of ImportError, so it has all the properties of an ImportError."
   ]
  },
  {
   "cell_type": "code",
   "execution_count": 9,
   "id": "3a353283-3a7f-417f-829d-860364910923",
   "metadata": {},
   "outputs": [
    {
     "name": "stdout",
     "output_type": "stream",
     "text": [
      "ModuleNotFoundError: No module named 'some_module'\n"
     ]
    }
   ],
   "source": [
    "try:\n",
    "    import some_module\n",
    "except ModuleNotFoundError as e:\n",
    "    print(f\"ModuleNotFoundError: {e}\")"
   ]
  },
  {
   "cell_type": "markdown",
   "id": "cb2b729f-a327-4668-b647-29d05b6dbbc8",
   "metadata": {},
   "source": [
    "***\n",
    "<br>"
   ]
  },
  {
   "cell_type": "markdown",
   "id": "cf2711ce-0611-47ab-8105-8cf2ad3483c7",
   "metadata": {},
   "source": [
    "#### 6. List down some best practices for exception handling in python."
   ]
  },
  {
   "cell_type": "markdown",
   "id": "35c5ff58-3e78-4f8d-b6ac-a8174c2aab97",
   "metadata": {},
   "source": [
    "These are some good additional best practices for exception handling in Python:\n",
    "\n",
    "1. __Always try to use the specific exception rather than using the base Exception class:__ Using a specific exception class, such as ValueError or TypeError, can help you handle exceptions more precisely and make your code easier to read and understand.\n",
    "\n",
    "2. __Print a proper message when an exception is handled to avoid any confusion:__ When catching an exception, print a clear and informative error message that explains what went wrong and what action was taken to handle the exception.\n",
    "\n",
    "3. __Rather than using print always try to log errors for further references:__ Printing to the console using print is useful for quick debugging, but for more persistent logs that can be reviewed later, it's better to use a logging framework like the built-in logging module.\n",
    "\n",
    "4. __Try to avoid writing multiple exception handling:__ Writing multiple exception handling can make your code harder to read and understand. Instead, try to group related exceptions together in a single try-except block.\n",
    "\n",
    "5. __Cleanup all the resources before execution is completed:__ Make sure to properly clean up any resources, such as closing files or releasing memory, before your program exits or the execution of a function is completed. This can prevent resource leaks and improve the reliability of your code."
   ]
  },
  {
   "cell_type": "markdown",
   "id": "1f3c090d-e577-493b-8516-4c933d1cf8d8",
   "metadata": {},
   "source": [
    "***\n",
    "<br>"
   ]
  }
 ],
 "metadata": {
  "kernelspec": {
   "display_name": "Python 3 (ipykernel)",
   "language": "python",
   "name": "python3"
  },
  "language_info": {
   "codemirror_mode": {
    "name": "ipython",
    "version": 3
   },
   "file_extension": ".py",
   "mimetype": "text/x-python",
   "name": "python",
   "nbconvert_exporter": "python",
   "pygments_lexer": "ipython3",
   "version": "3.10.6"
  }
 },
 "nbformat": 4,
 "nbformat_minor": 5
}
