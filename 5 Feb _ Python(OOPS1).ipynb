{
 "cells": [
  {
   "cell_type": "markdown",
   "id": "1886bf15-4526-4dcb-8392-bf9dc7f5a7eb",
   "metadata": {},
   "source": [
    "#### 1. Explain Class and Object with respect to Object-Oriented Programming. Give a suitable example."
   ]
  },
  {
   "cell_type": "markdown",
   "id": "2f7f0403-583e-4c19-b87c-3ab9ca2c1a13",
   "metadata": {},
   "source": [
    "__Class__ : A class can be defined as a template/blueprint that describes the behavior/state that the object of its type support.\n",
    "\n",
    "__Object__ : Objects have states and behaviors.<br>\n",
    "             For example, A Vehicle has states - company, speed<br>\n",
    "                An object is an instance of a class."
   ]
  },
  {
   "cell_type": "code",
   "execution_count": 5,
   "id": "8e5441b2-1ae2-4d5a-b15d-31780193e66a",
   "metadata": {},
   "outputs": [],
   "source": [
    "class Vehicle:\n",
    "    def __init__(self, company, speed):\n",
    "        self.__company = company\n",
    "        self.__speed = speed\n",
    "    \n",
    "    def getComapny(self):\n",
    "        return self.__company\n",
    "    \n",
    "    def getSpeed(self):\n",
    "        return self.__speed"
   ]
  },
  {
   "cell_type": "code",
   "execution_count": 8,
   "id": "c01adaa4-4fb2-4712-82b4-a6f0c225628c",
   "metadata": {},
   "outputs": [
    {
     "data": {
      "text/plain": [
       "('Jeep', 250)"
      ]
     },
     "execution_count": 8,
     "metadata": {},
     "output_type": "execute_result"
    }
   ],
   "source": [
    "car1 = Vehicle(\"Jeep\", 250)\n",
    "car1.getComapny(), car1.getSpeed()"
   ]
  },
  {
   "cell_type": "code",
   "execution_count": 9,
   "id": "805ec425-fefd-4458-a12e-a5b2cba8a50d",
   "metadata": {},
   "outputs": [
    {
     "data": {
      "text/plain": [
       "('Honda', 150)"
      ]
     },
     "execution_count": 9,
     "metadata": {},
     "output_type": "execute_result"
    }
   ],
   "source": [
    "bike1 = Vehicle(\"Honda\", 150)\n",
    "bike1.getComapny(), bike1.getSpeed()"
   ]
  },
  {
   "cell_type": "markdown",
   "id": "0226c22e-1ef7-46f3-b916-0f7d63d444fc",
   "metadata": {},
   "source": [
    "***\n",
    "<br>"
   ]
  },
  {
   "cell_type": "markdown",
   "id": "79f10d38-3a22-4f13-8e2e-62ea7f09f634",
   "metadata": {},
   "source": [
    "#### 2. Name the four pillars of OOPs."
   ]
  },
  {
   "cell_type": "markdown",
   "id": "efa35d3a-89d8-4f6c-97f9-db6aea0910c7",
   "metadata": {},
   "source": [
    "<b>Four Pillars of OOPs are : <b>\n",
    "\n",
    "* __Abstraction__ :  Abstraction means displaying only basic information and hiding the details. Data abstraction refers to providing only necessary information about the data to the outside world, hiding the background info or implementation.\n",
    "* __Encapsulation__ : In common terms, Encapsulation is defined as wrapping up of data and information under a single unit. In object-oriented programming, Encapsulation is defined as binding together the data and the functions that manipulate them.\n",
    "* __Polymorphism__ : The word polymorphism means having many forms. It is the ability to take more than one form. It is a feature that provides a function with more than one definition. \n",
    "* __Inheritance__ : Inheritance is the process in which two classes have a relationship with each other, and objects of one class acquire properties and features of the other class. The class which inherits the features is known as the child class, and the class whose features it inherited is called the parent class."
   ]
  },
  {
   "cell_type": "markdown",
   "id": "860347de-210f-49eb-aa68-242fd7f162fe",
   "metadata": {},
   "source": [
    "***\n",
    "<br>"
   ]
  },
  {
   "cell_type": "markdown",
   "id": "69214dc3-c506-4be9-b93c-8cc9840b5361",
   "metadata": {},
   "source": [
    "#### 3. Explain why the \\_\\___init__\\_\\_() function is used. Give a suitable example."
   ]
  },
  {
   "cell_type": "markdown",
   "id": "6ee0254f-538c-4394-9e15-c837f797fb39",
   "metadata": {},
   "source": [
    "<code>\\_\\___init__()\\_\\_</code> function is used as a constructor function which gets invoked automatically whenever a new object is created."
   ]
  },
  {
   "cell_type": "code",
   "execution_count": 12,
   "id": "71bd8f93-e862-4f0c-9262-e21a2f963c79",
   "metadata": {},
   "outputs": [],
   "source": [
    "class A:\n",
    "    def __init__(self, name):\n",
    "        self.name = name"
   ]
  },
  {
   "cell_type": "code",
   "execution_count": 13,
   "id": "b3689a65-c12d-4704-af50-2340ad5b5f3a",
   "metadata": {},
   "outputs": [
    {
     "data": {
      "text/plain": [
       "'ClassName'"
      ]
     },
     "execution_count": 13,
     "metadata": {},
     "output_type": "execute_result"
    }
   ],
   "source": [
    "a = A(\"ClassName\")\n",
    "a.name"
   ]
  },
  {
   "cell_type": "markdown",
   "id": "663e5da2-bcec-4001-bce8-3e327707be6a",
   "metadata": {},
   "source": [
    "***\n",
    "<br>"
   ]
  },
  {
   "cell_type": "markdown",
   "id": "f8cf57d5-ed4d-413e-bc18-abca644cc8c4",
   "metadata": {},
   "source": [
    "#### 4. Why self is used in OOPs? "
   ]
  },
  {
   "cell_type": "markdown",
   "id": "e130f0cb-89c1-4d8f-b2f7-aafe4306244f",
   "metadata": {},
   "source": [
    "The __self__ variable is used to represent the instance of the class which is often used in object-oriented programming. It works as a reference to the object. Python uses the self parameter to refer to instance attributes and methods of the class."
   ]
  },
  {
   "cell_type": "markdown",
   "id": "f50e75c4-32b0-4011-986f-9a983ed3b0f1",
   "metadata": {},
   "source": [
    "***\n",
    "<br>"
   ]
  },
  {
   "cell_type": "markdown",
   "id": "f52af860-4967-4540-8ed9-1540e02d07de",
   "metadata": {},
   "source": [
    "#### 5. What is inheritance? Give an example for each type of inheritance."
   ]
  },
  {
   "cell_type": "markdown",
   "id": "b9cd4f1e-88ab-4875-9fb9-8c4d545ca3e3",
   "metadata": {},
   "source": [
    "Inheritance is the process in which two classes have a relationship with each other, and objects of one class acquire properties and features of the other class. The class which inherits the features is known as the child class, and the class whose features it inherited is called the parent class."
   ]
  },
  {
   "cell_type": "code",
   "execution_count": 18,
   "id": "54d91aeb-177e-490b-987b-8853c1bbb04c",
   "metadata": {},
   "outputs": [],
   "source": [
    "class parent:\n",
    "    \n",
    "    _name = None\n",
    "    \n",
    "    def __init__(self, name):\n",
    "        self._name = name\n",
    "    \n",
    "    def getNameOfParent(self):\n",
    "        return self._name"
   ]
  },
  {
   "cell_type": "code",
   "execution_count": 19,
   "id": "cceca25f-eab7-47cc-a35d-8b24c32c05d6",
   "metadata": {},
   "outputs": [],
   "source": [
    "class child(parent):\n",
    "    def __init__(self, name):\n",
    "        parent.__init__(self, name)"
   ]
  },
  {
   "cell_type": "code",
   "execution_count": 20,
   "id": "13557745-a1f0-4839-8bf2-f0b73ab97242",
   "metadata": {},
   "outputs": [
    {
     "data": {
      "text/plain": [
       "'ClassName'"
      ]
     },
     "execution_count": 20,
     "metadata": {},
     "output_type": "execute_result"
    }
   ],
   "source": [
    "c = child(\"ClassName\")\n",
    "c.getNameOfParent()"
   ]
  },
  {
   "cell_type": "markdown",
   "id": "dc231ebd-7919-46bc-bd70-0b8d68959993",
   "metadata": {},
   "source": [
    "***\n",
    "<br>"
   ]
  }
 ],
 "metadata": {
  "kernelspec": {
   "display_name": "Python 3 (ipykernel)",
   "language": "python",
   "name": "python3"
  },
  "language_info": {
   "codemirror_mode": {
    "name": "ipython",
    "version": 3
   },
   "file_extension": ".py",
   "mimetype": "text/x-python",
   "name": "python",
   "nbconvert_exporter": "python",
   "pygments_lexer": "ipython3",
   "version": "3.10.6"
  }
 },
 "nbformat": 4,
 "nbformat_minor": 5
}
