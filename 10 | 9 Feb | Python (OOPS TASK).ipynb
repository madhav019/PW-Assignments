{
 "cells": [
  {
   "cell_type": "markdown",
   "id": "0344d99c-6366-497f-9e92-4e9126bb7eb6",
   "metadata": {},
   "source": [
    "#### 1. Create a vehicle class with an init method having Instance variables as name_of_vehicle, max_speed and average_of_vehicle."
   ]
  },
  {
   "cell_type": "code",
   "execution_count": 2,
   "id": "9131abfc-4f64-4be3-acff-41b5e1f2f7cb",
   "metadata": {},
   "outputs": [],
   "source": [
    "class vehicle:\n",
    "    def __init__(self, name_of_vehicle, max_speed, average_of_vehicle):\n",
    "        self.name_of_vehicle = name_of_vehicle\n",
    "        self.max_speed = max_speed\n",
    "        self.average_of_vehicle = average_of_vehicle"
    "    \n",
    "    def seating_capacity(self, capacity):\n",
    "        return self.name_of_vehicle, capacity"
   ]
  },
  {
   "cell_type": "markdown",
   "id": "fd1cf571-44ea-40e5-8f52-10c198bba058",
   "metadata": {},
   "source": [
    "***\n",
    "<br>"
   ]
  },
  {
   "cell_type": "markdown",
   "id": "11d163cd-c750-40b1-b8c4-41d804313b6c",
   "metadata": {},
   "source": [
    "#### 2. Create a child class car from the vehicle class created in Que 1, which will inherit the vehicle class. Create a method named seating_capacity which takes capacity as an argument and returns the name of the vehicle and its seating capacity."
   ]
  },
  {
   "cell_type": "code",
   "execution_count": 8,
   "id": "c8737419-c325-46f2-a43e-c75aa89e2f85",
   "metadata": {},
   "outputs": [],
   "source": [
    "class car(vehicle):\n",
    "    \n",
    "    def __init__(self, name_of_vehicle, max_speed, average_of_vehicle):\n",
    "        super(car, self).__init__(name_of_vehicle, max_speed, average_of_vehicle)\n"
   ]
  },
  {
   "cell_type": "code",
   "execution_count": 9,
   "id": "9c833718-1806-4996-9c6b-e1fe704dee9f",
   "metadata": {},
   "outputs": [
    {
     "data": {
      "text/plain": [
       "('Honda', 5)"
      ]
     },
     "execution_count": 9,
     "metadata": {},
     "output_type": "execute_result"
    }
   ],
   "source": [
    "Car = car(\"Honda\", 300, 15)\n",
    "Car.seating_capacity(5)"
   ]
  },
  {
   "cell_type": "markdown",
   "id": "64c31ba0-9dfb-4d73-9e22-a5028695107e",
   "metadata": {},
   "source": [
    "***\n",
    "<br>"
   ]
  },
  {
   "cell_type": "markdown",
   "id": "7f047d90-fdb8-4c90-bd83-1c0df85bc803",
   "metadata": {},
   "source": [
    "#### 3. What is multiple inheritance? Write a python code to demonstrate multiple inheritance. "
   ]
  },
  {
   "cell_type": "markdown",
   "id": "ecbcc3dd-7c73-48bd-85a1-d18e902e0515",
   "metadata": {},
   "source": [
    "Multiple inheritance is a feature of some object-oriented computer programming languages in which an object or class can inherit characteristics and features from more than one parent object or the parent class."
   ]
  },
  {
   "cell_type": "code",
   "execution_count": 15,
   "id": "71b46dab-a2fd-4180-817a-e9e16369290c",
   "metadata": {},
   "outputs": [],
   "source": [
    "class superClass1:\n",
    "    def class1_info(self):\n",
    "        return \"This is super class 1\"\n",
    "\n",
    "class superClass2:\n",
    "    def class2_info(self):\n",
    "        return \"This is super class 2\"\n",
    "    \n",
    "class derived(superClass1, superClass2):\n",
    "    pass"
   ]
  },
  {
   "cell_type": "code",
   "execution_count": 16,
   "id": "5de8f830-4691-4aae-b0a8-0887eaa8d1db",
   "metadata": {},
   "outputs": [
    {
     "name": "stdout",
     "output_type": "stream",
     "text": [
      "This is super class 1\n",
      "This is super class 2\n"
     ]
    }
   ],
   "source": [
    "Derived = derived()\n",
    "print(Derived.class1_info())\n",
    "print(Derived.class2_info())"
   ]
  },
  {
   "cell_type": "markdown",
   "id": "b7394101-ad94-41a0-b451-d3222b49b478",
   "metadata": {},
   "source": [
    "***\n",
    "<br>"
   ]
  },
  {
   "cell_type": "markdown",
   "id": "91dbf22a-1903-4693-8ac3-17bd29a8d0e7",
   "metadata": {},
   "source": [
    "#### 4. What are getter and setter in python? Create a class and create a getter and a setter method in this class."
   ]
  },
  {
   "cell_type": "markdown",
   "id": "543ba9c3-3b78-4feb-9279-ba017ea15d5c",
   "metadata": {},
   "source": [
    "Getter and setter methods are used to read or write private or protected variables or members in a class. This is done to prevent any invalid operation from happening on the class variables. If the user needs to access these variables or make some changes, then the user needs to explicitly call these methods."
   ]
  },
  {
   "cell_type": "code",
   "execution_count": 27,
   "id": "961b2ebc-77cc-48e8-b9e4-f14f7df055f8",
   "metadata": {},
   "outputs": [],
   "source": [
    "class baseClass:\n",
    "    \n",
    "    __variable = \"Default\"\n",
    "    \n",
    "    def getVariable(self):\n",
    "        return self.__variable\n",
    "\n",
    "    def setVariable(self, variable):\n",
    "        self.__variable = variable\n",
    "    "
   ]
  },
  {
   "cell_type": "code",
   "execution_count": 32,
   "id": "6ede7b4d-428f-440c-aa83-f1eb3150669d",
   "metadata": {},
   "outputs": [
    {
     "name": "stdout",
     "output_type": "stream",
     "text": [
      "Default\n",
      "Value after using setter function!!!\n"
     ]
    }
   ],
   "source": [
    "BClass = baseClass()\n",
    "\n",
    "print(BClass.getVariable())\n",
    "BClass.setVariable(\"Value after using setter function!!!\")\n",
    "print(BClass.getVariable())"
   ]
  },
  {
   "cell_type": "markdown",
   "id": "e63f7628-12fb-407a-8feb-ba63ee458bbe",
   "metadata": {},
   "source": [
    "***\n",
    "<br>"
   ]
  },
  {
   "cell_type": "markdown",
   "id": "a211829a-1ef3-411f-9629-4d98ce7cd542",
   "metadata": {},
   "source": [
    "#### 5. What is method overriding in python? Write a python code to demonstrate method overriding."
   ]
  },
  {
   "cell_type": "markdown",
   "id": "fe7fd1a3-2f40-4c99-97a7-2eea6f5cc0c5",
   "metadata": {},
   "source": [
    "Method overriding is an ability of any object-oriented programming language that allows a subclass or child class to provide a specific implementation of a method that is already provided by one of its super-classes or parent classes. When a method in a subclass has the same name, same parameters or signature and same return type(or sub-type) as a method in its super-class, then the method in the subclass is said to override the method in the super-class."
   ]
  },
  {
   "cell_type": "code",
   "execution_count": 1,
   "id": "3d5bc68c-ba42-442d-84c3-da74e59f1e5c",
   "metadata": {},
   "outputs": [],
   "source": [
    "class Base:\n",
    "    def show(self):\n",
    "        return \"This is base class!!\"\n",
    "    \n",
    "class Child(Base):\n",
    "    def show(self):\n",
    "        return \"This is child class\""
   ]
  },
  {
   "cell_type": "code",
   "execution_count": 4,
   "id": "def0b3a0-9971-4c0f-9f85-540e41cfb710",
   "metadata": {},
   "outputs": [
    {
     "name": "stdout",
     "output_type": "stream",
     "text": [
      "Base Class show function :: This is base class!!\n",
      "Child Class overrided show function :: This is child class\n"
     ]
    }
   ],
   "source": [
    "base = Base()\n",
    "child = Child()\n",
    "\n",
    "print(f\"Base Class show function :: {base.show()}\")\n",
    "print(f\"Child Class overrided show function :: {child.show()}\")"
   ]
  },
  {
   "cell_type": "markdown",
   "id": "7b361f86-a5fc-48f6-afb4-6d3c33dc5efd",
   "metadata": {},
   "source": [
    "***\n",
    "<br>"
   ]
  }
 ],
 "metadata": {
  "kernelspec": {
   "display_name": "Python 3 (ipykernel)",
   "language": "python",
   "name": "python3"
  },
  "language_info": {
   "codemirror_mode": {
    "name": "ipython",
    "version": 3
   },
   "file_extension": ".py",
   "mimetype": "text/x-python",
   "name": "python",
   "nbconvert_exporter": "python",
   "pygments_lexer": "ipython3",
   "version": "3.10.6"
  }
 },
 "nbformat": 4,
 "nbformat_minor": 5
}
