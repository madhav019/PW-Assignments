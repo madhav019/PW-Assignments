{
 "cells": [
  {
   "cell_type": "markdown",
   "id": "09316306-974f-4bab-888e-212443a5c7b2",
   "metadata": {},
   "source": [
    "#### 1. Create a python program to sort the given list of tuples based on integer value using a <code style=\"color: green;\">lambda</code> function.\n",
    "[('Sachin Tendulkar, 34357). (Ricky Ponting', 27483), (Jack Kalls, 25534). (Virat Kohli, 24936)]"
   ]
  },
  {
   "cell_type": "code",
   "execution_count": 4,
   "id": "287604fb-58ce-41c4-96f2-3709964f10fd",
   "metadata": {},
   "outputs": [
    {
     "data": {
      "text/plain": [
       "[('Virat Kohli', 24936),\n",
       " ('Jack Kalls', 25534),\n",
       " ('Ricky Ponting', 27483),\n",
       " ('Sachin Tendulkar', 34357)]"
      ]
     },
     "execution_count": 4,
     "metadata": {},
     "output_type": "execute_result"
    }
   ],
   "source": [
    "arr = [('Sachin Tendulkar', 34357), ('Ricky Ponting', 27483), ('Jack Kalls', 25534), ('Virat Kohli', 24936)]\n",
    "arr.sort(key=lambda x : x[1])\n",
    "arr"
   ]
  },
  {
   "cell_type": "markdown",
   "id": "c9c91869-6331-4e78-ac50-8665ce7cc5a3",
   "metadata": {},
   "source": [
    "***\n",
    "<br>"
   ]
  },
  {
   "cell_type": "markdown",
   "id": "d8e771ef-d0a5-47bb-b8e2-6963fd1fc143",
   "metadata": {},
   "source": [
    "#### 2. Write a Python Program to find the squares of all the numbers in the given list of integers using <code style=\"color: green;\">lambda</code> and <code style=\"color:green\" >map</code> functions.\n",
    "\n",
    "[1, 2, 3, 4, 5, 6, 7, 8, 9, 10]"
   ]
  },
  {
   "cell_type": "code",
   "execution_count": 11,
   "id": "fc2a02e9-60c6-458c-9811-fca81c986101",
   "metadata": {},
   "outputs": [
    {
     "data": {
      "text/plain": [
       "[1, 4, 9, 16, 25, 36, 49, 64, 81, 100]"
      ]
     },
     "execution_count": 11,
     "metadata": {},
     "output_type": "execute_result"
    }
   ],
   "source": [
    "arr = [1, 2, 3, 4, 5, 6, 7, 8, 9, 10]\n",
    "\n",
    "list(map(lambda x : x**2, arr))"
   ]
  },
  {
   "cell_type": "markdown",
   "id": "dbb08e32-7f5a-4f4b-9de0-8acc55dd2b54",
   "metadata": {},
   "source": [
    "***\n",
    "<br>"
   ]
  },
  {
   "cell_type": "markdown",
   "id": "6cca7ec9-2f11-4b4c-9d93-3bef12f59132",
   "metadata": {},
   "source": [
    "#### 3. Write a python program to convert the given list of integers into a tuple of strings. Use map and lambda functions\n",
    "\n",
    "Given String: [1, 2, 3, 4, 5, 6, 7, 8, 9, 10]<br> \n",
    "Expected output: ('1', '2', '3', '4', '5', '6', '7', '8', '9', '10')"
   ]
  },
  {
   "cell_type": "code",
   "execution_count": 9,
   "id": "94fa7769-8cdb-4585-b321-06afaeddc500",
   "metadata": {},
   "outputs": [
    {
     "data": {
      "text/plain": [
       "('1', '2', '3', '4', '5', '6', '7', '8', '9', '10')"
      ]
     },
     "execution_count": 9,
     "metadata": {},
     "output_type": "execute_result"
    }
   ],
   "source": [
    "arr = [1, 2, 3, 4, 5, 6, 7, 8, 9, 10]\n",
    "\n",
    "tuple(map(lambda x : str(x), arr))"
   ]
  },
  {
   "cell_type": "markdown",
   "id": "2f5e6e2d-15eb-47e1-9e71-fb340dc4f36a",
   "metadata": {},
   "source": [
    "***\n",
    "<br>"
   ]
  },
  {
   "cell_type": "markdown",
   "id": "1891ae1a-896e-4662-8523-d137c737d23f",
   "metadata": {},
   "source": [
    "#### 4. Write a python program using reduce function to compute the product of a list containing numbers from 1 to 25. \n"
   ]
  },
  {
   "cell_type": "code",
   "execution_count": 16,
   "id": "283c3b25-d9cf-4ab4-b4af-c062919f16ec",
   "metadata": {},
   "outputs": [
    {
     "data": {
      "text/plain": [
       "15511210043330985984000000"
      ]
     },
     "execution_count": 16,
     "metadata": {},
     "output_type": "execute_result"
    }
   ],
   "source": [
    "from functools import reduce\n",
    " \n",
    "reduce(lambda x, y : x * y, range(1, 26))"
   ]
  },
  {
   "cell_type": "markdown",
   "id": "9c397bd3-2511-49d2-a144-55a60206aa89",
   "metadata": {},
   "source": [
    "***\n",
    "<br>"
   ]
  },
  {
   "cell_type": "markdown",
   "id": "ac93182f-d947-475f-95cc-00d133d9d983",
   "metadata": {},
   "source": [
    "#### 5. Write a python program to filter the numbers in a given list that are divisible by 2 and 3 using the filter function.\n",
    "[2, 3, 6, 9, 27, 60, 90, 120, 55, 46]"
   ]
  },
  {
   "cell_type": "code",
   "execution_count": 48,
   "id": "eadbf528-53d4-417c-a42f-010b1ec5eca6",
   "metadata": {},
   "outputs": [
    {
     "data": {
      "text/plain": [
       "[6, 60, 90, 120]"
      ]
     },
     "execution_count": 48,
     "metadata": {},
     "output_type": "execute_result"
    }
   ],
   "source": [
    "arr = [2, 3, 6, 9, 27, 60, 90, 120, 55, 46]\n",
    "\n",
    "list(filter(lambda x : x%6 == 0, arr))"
   ]
  },
  {
   "cell_type": "markdown",
   "id": "51655e03-9833-4887-a865-b2b04767161d",
   "metadata": {},
   "source": [
    "***\n",
    "<br>"
   ]
  },
  {
   "cell_type": "markdown",
   "id": "93120288-d034-4284-bcbc-c5ad86c27a99",
   "metadata": {},
   "source": [
    "#### 6. Write a python program to find palindromes in the given list of strings using lambda and filter function.\n",
    "\n",
    "['python', 'php', 'aba', 'radar, level']"
   ]
  },
  {
   "cell_type": "code",
   "execution_count": 47,
   "id": "5c94c62c-ec2a-4f83-8c94-4ae246aa98df",
   "metadata": {},
   "outputs": [
    {
     "data": {
      "text/plain": [
       "['php', 'aba', 'radar', 'level']"
      ]
     },
     "execution_count": 47,
     "metadata": {},
     "output_type": "execute_result"
    }
   ],
   "source": [
    "arr = ['python', 'php', 'aba', 'radar', 'level']\n",
    "\n",
    "list(filter(lambda x : x == ''.join(list(reversed(x))), arr))"
   ]
  },
  {
   "cell_type": "markdown",
   "id": "a4cc64b0-06c3-479d-9ce6-2c625a8e2ede",
   "metadata": {},
   "source": [
    "***\n",
    "<br>"
   ]
  }
 ],
 "metadata": {
  "kernelspec": {
   "display_name": "Python 3 (ipykernel)",
   "language": "python",
   "name": "python3"
  },
  "language_info": {
   "codemirror_mode": {
    "name": "ipython",
    "version": 3
   },
   "file_extension": ".py",
   "mimetype": "text/x-python",
   "name": "python",
   "nbconvert_exporter": "python",
   "pygments_lexer": "ipython3",
   "version": "3.10.6"
  }
 },
 "nbformat": 4,
 "nbformat_minor": 5
}
