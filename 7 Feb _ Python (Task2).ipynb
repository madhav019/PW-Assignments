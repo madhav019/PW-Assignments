{
 "cells": [
  {
   "cell_type": "markdown",
   "id": "cca9b740-4b9d-427a-a830-c2ba393c054d",
   "metadata": {},
   "source": [
    "Q1. You are writing code for a company. The requirement of the company is that you create a python function that will check whether the password entered by the user is correct or not. The function should take the password as input and return the string \"Valld Password\" If the entered password follows the below-given password guidelines else it should return \"Invalid Password\".\n",
    "\n",
    "Note: 1. The Password should contain at least two uppercase letters and at least two lowercase letters. <br>2. The Password should contain at least a number and three special characters. <br>3. The length of the password should be 10 characters long.\n"
   ]
  },
  {
   "cell_type": "code",
   "execution_count": 10,
   "id": "5bfc9e8c-183c-443c-b5e2-a1ec6c0f4064",
   "metadata": {},
   "outputs": [],
   "source": [
    "def function(String):\n",
    "    \n",
    "    if len(String) != 10:\n",
    "        return \"Invalid Password\"\n",
    "    \n",
    "    upperCaseLetters = 0    \n",
    "    lowerCaseLetters = 0\n",
    "    number = 0\n",
    "    specialCharacter = 0\n",
    "    \n",
    "    for i in String:\n",
    "        if i.isupper():\n",
    "            upperCaseLetters += 1\n",
    "        elif i.islower():\n",
    "            lowerCaseLetters += 1\n",
    "        elif i.isnumeric():\n",
    "            number += 1\n",
    "        else:\n",
    "            specialCharacter += 1\n",
    "    \n",
    "    return \"Valld Password\" if upperCaseLetters >= 2 and lowerCaseLetters >= 2 and number >= 1 and specialCharacter == 3 else \"Invalid Password\"\n",
    "        "
   ]
  },
  {
   "cell_type": "code",
   "execution_count": 18,
   "id": "505aa771-1a07-4421-bd99-a15883c019ee",
   "metadata": {},
   "outputs": [
    {
     "data": {
      "text/plain": [
       "'Valld Password'"
      ]
     },
     "execution_count": 18,
     "metadata": {},
     "output_type": "execute_result"
    }
   ],
   "source": [
    "function(\"MaDmad1@#$\")"
   ]
  },
  {
   "cell_type": "markdown",
   "id": "5993b614-3fd1-4dc1-9707-afbd417097dd",
   "metadata": {},
   "source": [
    "***\n",
    "<br>"
   ]
  },
  {
   "cell_type": "markdown",
   "id": "b3607960-9176-401d-b7a2-4ea3922aed55",
   "metadata": {},
   "source": [
    "\n",
    "Q2. Solve the below-given questions using at least one of the following:\n",
    "\n",
    "1. Lambda function \n",
    "2. Filter function\n",
    "3. Map function\n",
    "4. List Comprehension\n",
    "\n",
    "* Check if the string starts with a particular letter. \n",
    "* Check if the string is numeric.\n",
    "* Sort a list of tuples having fruit names and their quantity. <code>[(\"mango\" 99), (\"orange\", 80), (\"grapes\", 1000)]</code> \n",
    "* Find the squares of numbers from 1 to 10.\n",
    "* Find the cube root of numbers from 1 to 10.\n",
    "* Check if a given number is even.\n",
    "* Filter odd numbers from the given list. <code>[1.2.3,4,5,6,7,8,9,10]</code>\n",
    "* Sort a list of integers into positive and negative integers lists. <code>[1.2,3,4,5,6,-1,-2-3,-4,-5,0]</code>"
   ]
  },
  {
   "cell_type": "code",
   "execution_count": 25,
   "id": "b47ef5d6-280c-4ff2-8540-c81d4eae6aba",
   "metadata": {},
   "outputs": [
    {
     "data": {
      "text/plain": [
       "True"
      ]
     },
     "execution_count": 25,
     "metadata": {},
     "output_type": "execute_result"
    }
   ],
   "source": [
    "# check if the string starts with a particular letter.\n",
    "\n",
    "startsWith = lambda String, key : String[0] == key\n",
    "startsWith(\"Madhav\", 'M')"
   ]
  },
  {
   "cell_type": "code",
   "execution_count": 35,
   "id": "f7f82659-bf08-4b8f-8db2-75507781eaac",
   "metadata": {},
   "outputs": [
    {
     "data": {
      "text/plain": [
       "True"
      ]
     },
     "execution_count": 35,
     "metadata": {},
     "output_type": "execute_result"
    }
   ],
   "source": [
    "# check if the string is numeric\n",
    "\n",
    "isNumericArr = lambda string : [1 if ord(i) >= ord('0') and ord(i) <= ord('9') else 0 for i in string]\n",
    "isNumeric = lambda string : sum(isNumericArr(string)) == len(string)\n",
    "\n",
    "isNumeric('123')"
   ]
  },
  {
   "cell_type": "code",
   "execution_count": 52,
   "id": "f7ffa8f9-83f2-4b47-bfc1-d798673b12be",
   "metadata": {},
   "outputs": [
    {
     "data": {
      "text/plain": [
       "[('orange', 80), ('mango', 99), ('grapes', 1000)]"
      ]
     },
     "execution_count": 52,
     "metadata": {},
     "output_type": "execute_result"
    }
   ],
   "source": [
    "# Sort a list of tuples having fruit names and their quantity. \n",
    "\n",
    "arr = [(\"mango\", 99), (\"orange\", 80), (\"grapes\", 1000)]\n",
    "\n",
    "sortDict = lambda x : sorted(arr, key = lambda x : x[1])\n",
    "sortDict(arr)"
   ]
  },
  {
   "cell_type": "code",
   "execution_count": 50,
   "id": "70c2ac05-0b57-4257-b694-81f56a633c43",
   "metadata": {},
   "outputs": [
    {
     "data": {
      "text/plain": [
       "[1, 4, 9, 16, 25, 36, 49, 64, 81, 100]"
      ]
     },
     "execution_count": 50,
     "metadata": {},
     "output_type": "execute_result"
    }
   ],
   "source": [
    "# Find the squares of numbers from 1 to 10.\n",
    "\n",
    "findSquares = lambda n : list(map(lambda x : x**2, range(1, n+1)))\n",
    "findSquares(10)"
   ]
  },
  {
   "cell_type": "code",
   "execution_count": 51,
   "id": "c0150926-b4b7-4e1d-bdde-d34e2b685312",
   "metadata": {},
   "outputs": [
    {
     "data": {
      "text/plain": [
       "[1.0,\n",
       " 1.2599210498948732,\n",
       " 1.4422495703074083,\n",
       " 1.5874010519681994,\n",
       " 1.7099759466766968,\n",
       " 1.8171205928321397,\n",
       " 1.912931182772389,\n",
       " 2.0,\n",
       " 2.080083823051904,\n",
       " 2.154434690031884]"
      ]
     },
     "execution_count": 51,
     "metadata": {},
     "output_type": "execute_result"
    }
   ],
   "source": [
    "# Find the cube root of numbers from 1 to 10.\n",
    "\n",
    "findCubeRoot = lambda n : list(map(lambda x : x**(1/3), range(1, n+1)))\n",
    "findCubeRoot(10)"
   ]
  },
  {
   "cell_type": "code",
   "execution_count": 58,
   "id": "08eafa36-542e-4905-b06b-e3739ce19e95",
   "metadata": {},
   "outputs": [
    {
     "data": {
      "text/plain": [
       "True"
      ]
     },
     "execution_count": 58,
     "metadata": {},
     "output_type": "execute_result"
    }
   ],
   "source": [
    "# Check if a given number is even.\n",
    "\n",
    "isEven = lambda n : not n&1\n",
    "isEven(26)"
   ]
  },
  {
   "cell_type": "code",
   "execution_count": 59,
   "id": "18b06223-4153-44ed-a24b-75516031f97c",
   "metadata": {},
   "outputs": [
    {
     "data": {
      "text/plain": [
       "[1, 3, 5, 7, 9]"
      ]
     },
     "execution_count": 59,
     "metadata": {},
     "output_type": "execute_result"
    }
   ],
   "source": [
    "# Filter odd numbers from the given list. \n",
    "\n",
    "arr = [1,2,3,4,5,6,7,8,9,10]\n",
    "\n",
    "filterOdd = lambda arr : list(filter(lambda x : x&1, arr))\n",
    "filterOdd(arr)"
   ]
  },
  {
   "cell_type": "code",
   "execution_count": 68,
   "id": "ec70635e-8c55-4045-8c55-12263ae339d7",
   "metadata": {},
   "outputs": [
    {
     "data": {
      "text/plain": [
       "([1, 2, 3, 4, 5, 6, 0], [-1, -2, -3, -4, -5])"
      ]
     },
     "execution_count": 68,
     "metadata": {},
     "output_type": "execute_result"
    }
   ],
   "source": [
    "# Sort a list of integers into positive and negative integers lists. \n",
    "\n",
    "arr = [1,2,3,4,5,6,-1,-2,-3,-4,-5,0]\n",
    "\n",
    "def function(arr):\n",
    "    positive, negative = [], []\n",
    "    filterNumbers = lambda arr : [positive.append(i) if i>=0 else negative.append(i) for i in arr]\n",
    "    filterNumbers(arr)\n",
    "    return positive, negative\n",
    "\n",
    "function(arr)"
   ]
  },
  {
   "cell_type": "markdown",
   "id": "26e7dbe6-405d-495a-86d3-1c5773dc7d71",
   "metadata": {},
   "source": [
    "***\n",
    "<br>"
   ]
  }
 ],
 "metadata": {
  "kernelspec": {
   "display_name": "Python 3 (ipykernel)",
   "language": "python",
   "name": "python3"
  },
  "language_info": {
   "codemirror_mode": {
    "name": "ipython",
    "version": 3
   },
   "file_extension": ".py",
   "mimetype": "text/x-python",
   "name": "python",
   "nbconvert_exporter": "python",
   "pygments_lexer": "ipython3",
   "version": "3.10.6"
  }
 },
 "nbformat": 4,
 "nbformat_minor": 5
}
