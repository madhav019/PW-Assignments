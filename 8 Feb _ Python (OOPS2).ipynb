{
 "cells": [
  {
   "cell_type": "markdown",
   "id": "3bb999d7-2a10-45ec-b752-fc6ee56d61e6",
   "metadata": {},
   "source": [
    "#### 1. What is Abstraction in OOPS? Explain with an example."
   ]
  },
  {
   "cell_type": "markdown",
   "id": "63ea7949-f5cf-454a-bc4a-7948b28de483",
   "metadata": {},
   "source": [
    "Abstraction is that feature in OOP concept wherein the user is kept unaware of the basic implementation of a function property. The user is only able to view basic functionalities whereas the internal details are hidden."
   ]
  },
  {
   "cell_type": "code",
   "execution_count": 4,
   "id": "42e2ecea-c667-43ae-a17f-0ec4a1094b34",
   "metadata": {},
   "outputs": [],
   "source": [
    "from abc import ABC, abstractmethod\n",
    "\n",
    "class shape(ABC):\n",
    "    \n",
    "    @abstractmethod\n",
    "    def perimeter():\n",
    "        pass\n",
    "    \n",
    "    @abstractmethod\n",
    "    def area():\n",
    "        pass"
   ]
  },
  {
   "cell_type": "code",
   "execution_count": 15,
   "id": "65fa2e84-23be-4f1c-ad77-7f9c9016da51",
   "metadata": {},
   "outputs": [],
   "source": [
    "class rectangle(shape):\n",
    "    \n",
    "    def __init__(self, length, breadth):\n",
    "        self.length = length\n",
    "        self.breadth = breadth\n",
    "    \n",
    "    def perimeter(self):\n",
    "        return 2 * (self.length + self.breadth)\n",
    "    \n",
    "    def area(self):\n",
    "        return (self.length * self.breadth)"
   ]
  },
  {
   "cell_type": "code",
   "execution_count": 21,
   "id": "955df443-da6b-4b23-bcb3-9097e0adfbcd",
   "metadata": {},
   "outputs": [],
   "source": [
    "class circle(shape):\n",
    "    \n",
    "    def __init__(self, radius):\n",
    "        self.radius = radius\n",
    "        \n",
    "    def perimeter(self):\n",
    "        return 2 * 3.14 * self.radius\n",
    "    \n",
    "    def area(self):\n",
    "        return 3.14 * self.radius**2\n",
    "    "
   ]
  },
  {
   "cell_type": "code",
   "execution_count": 25,
   "id": "edc1fea1-6931-4a82-99e3-a1769e8240bd",
   "metadata": {},
   "outputs": [
    {
     "name": "stdout",
     "output_type": "stream",
     "text": [
      "14\n",
      "12\n"
     ]
    }
   ],
   "source": [
    "rectangle = rectangle(3, 4)\n",
    "print(rectangle.perimeter())\n",
    "print(rectangle.area())"
   ]
  },
  {
   "cell_type": "code",
   "execution_count": 24,
   "id": "34912ee5-17d5-4d54-b27b-4e9656919bfd",
   "metadata": {},
   "outputs": [
    {
     "name": "stdout",
     "output_type": "stream",
     "text": [
      "31.400000000000002\n",
      "78.5\n"
     ]
    }
   ],
   "source": [
    "circle = circle(5)\n",
    "print(circle.perimeter())\n",
    "print(circle.area())"
   ]
  },
  {
   "cell_type": "markdown",
   "id": "b03da4a0-08e3-4f39-8b0e-899da8909f7a",
   "metadata": {},
   "source": [
    "*** \n",
    "<br>"
   ]
  },
  {
   "cell_type": "markdown",
   "id": "bc2ce388-6bab-4bd2-9300-1cd94801882f",
   "metadata": {},
   "source": [
    "#### 2. Differentiate between Abstraction and Encapsulation. Explain with an example. "
   ]
  },
  {
   "cell_type": "markdown",
   "id": "d27065be-fc9b-4f18-8fe8-044f5b66eccc",
   "metadata": {},
   "source": [
    "* __Encapsulation__: combining all the attributes and the methods that the class needs under one space makes code easy to maintain.\n",
    "* __Abstraction__: hiding away the implementation details from the external user which makes your code easy to be shared with other developers."
   ]
  },
  {
   "cell_type": "markdown",
   "id": "45ebc538-5e04-472b-9daf-a1ed8a112b91",
   "metadata": {},
   "source": [
    "*** \n",
    "<br>"
   ]
  },
  {
   "cell_type": "markdown",
   "id": "1fbe47fc-f113-4e83-ba32-82d79e61e6ee",
   "metadata": {},
   "source": [
    "#### 3. What is abc module in python? Why is it used?"
   ]
  },
  {
   "cell_type": "markdown",
   "id": "84629b78-c51c-48de-a5cb-30aa83e516e2",
   "metadata": {},
   "source": [
    "The abc module in Python is the Abstract Base Class module. It is used to define abstract base classes, which provide a way to define interfaces in Python. An abstract base class is a class that cannot be instantiated, but can be subclassed. The purpose of an abstract base class is to specify the interface that its subclasses must implement, without specifying how that implementation should be done."
   ]
  },
  {
   "cell_type": "markdown",
   "id": "6c7c1db0-eaa6-4695-a5bd-f9d6e4e93db8",
   "metadata": {},
   "source": [
    "***\n",
    "<br>"
   ]
  },
  {
   "cell_type": "markdown",
   "id": "07cfbc8e-4e2f-4e1d-a189-c61821fc9845",
   "metadata": {},
   "source": [
    "#### 4. How can we achieve data abstraction?"
   ]
  },
  {
   "cell_type": "markdown",
   "id": "e90744a7-89d3-4936-a9bb-bcb3838adaea",
   "metadata": {},
   "source": [
    "In Python, abstraction can be achieved by having/using abstract classes and methods in our programs.\n",
    "\n",
    "\n",
    "An abstract method is a method that is declared, but does not contain implementation. An abstract method in a base class identifies the functionality that should be implemented by all its subclasses. However, since the implementation of an abstract method would differ from one subclass to another, often the method body comprises just a pass statement. Every subclass of the base class will ride this method with its implementation. A class containing abstract methods is called abstract class.Python provides the abc module to use the abstraction in the Python program"
   ]
  },
  {
   "cell_type": "markdown",
   "id": "876c89d3-fd2c-4d05-96ea-d08a33fbedbe",
   "metadata": {},
   "source": [
    "*** \n",
    "<br>"
   ]
  },
  {
   "cell_type": "markdown",
   "id": "d257b267-4229-4a05-9b76-487f13bb657d",
   "metadata": {},
   "source": [
    "#### 5. Can we create an instance of an abstract class? Explain your answer."
   ]
  },
  {
   "cell_type": "markdown",
   "id": "0801efac-6a88-41a9-b296-52bb20e263c3",
   "metadata": {},
   "source": [
    "No, you cannot create an instance of an abstract class. An abstract class is a class that cannot be instantiated on its own, but is intended to be subclassed and have its abstract methods implemented by the subclasses. The purpose of an abstract class is to provide a common interface for a set of related classes, but not to be used as a standalone object."
   ]
  },
  {
   "cell_type": "markdown",
   "id": "58e3337e-7d31-401e-b3e0-8e8330fd2dde",
   "metadata": {},
   "source": [
    "*** \n",
    "<br>"
   ]
  }
 ],
 "metadata": {
  "kernelspec": {
   "display_name": "Python 3 (ipykernel)",
   "language": "python",
   "name": "python3"
  },
  "language_info": {
   "codemirror_mode": {
    "name": "ipython",
    "version": 3
   },
   "file_extension": ".py",
   "mimetype": "text/x-python",
   "name": "python",
   "nbconvert_exporter": "python",
   "pygments_lexer": "ipython3",
   "version": "3.10.6"
  }
 },
 "nbformat": 4,
 "nbformat_minor": 5
}
