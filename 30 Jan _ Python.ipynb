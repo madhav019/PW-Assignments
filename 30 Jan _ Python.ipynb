{
 "cells": [
  {
   "cell_type": "markdown",
   "id": "e553b30f-3543-47cc-b82a-5e8afcaa068a",
   "metadata": {},
   "source": [
    "### 1. Write a program to accept percentage from the user and display according to the given criteria."
   ]
  },
  {
   "cell_type": "code",
   "execution_count": 11,
   "id": "5701487e-50f0-41fb-b26a-94af0cf934d1",
   "metadata": {},
   "outputs": [
    {
     "name": "stdin",
     "output_type": "stream",
     "text": [
      "Enter marks (%) ::  78\n"
     ]
    },
    {
     "name": "stdout",
     "output_type": "stream",
     "text": [
      "Your Grade is   ::  C\n"
     ]
    }
   ],
   "source": [
    "marks = int(input(\"Enter marks (%) :: \"))\n",
    "\n",
    "result = \"Your Grade is   ::  \" \n",
    "\n",
    "if marks > 90:\n",
    "    result += \"A\"\n",
    "elif marks > 80 and marks <= 90:\n",
    "    result += \"B\"\n",
    "elif marks >= 60 and marks <= 80:\n",
    "    result += \"C\"\n",
    "else:\n",
    "    result += \"D\"\n",
    "    \n",
    "print(result)"
   ]
  },
  {
   "cell_type": "markdown",
   "id": "6e5160f8-fffc-4a06-bb68-611c3b17c2b1",
   "metadata": {},
   "source": [
    "***\n",
    "<br>"
   ]
  },
  {
   "cell_type": "markdown",
   "id": "b0b11d6f-f24e-4615-8f98-6a0b83c244d4",
   "metadata": {},
   "source": [
    "### 2. Write a program to accept the cost price of a bike and display the road tax to be paid according to the given criteria:"
   ]
  },
  {
   "cell_type": "code",
   "execution_count": 20,
   "id": "5e13e18b-f214-4e11-b3c9-dca2e36e8668",
   "metadata": {},
   "outputs": [
    {
     "name": "stdin",
     "output_type": "stream",
     "text": [
      "Enter price    :: 8465\n"
     ]
    },
    {
     "name": "stdout",
     "output_type": "stream",
     "text": [
      "Tax to be paid :: 423.25\n"
     ]
    }
   ],
   "source": [
    "cost = int(input(\"Enter price    ::\"))\n",
    "\n",
    "result = \"Tax to be paid :: \"\n",
    "\n",
    "if cost > 100000:\n",
    "    result += str(round(cost * 0.15, 3))\n",
    "elif cost > 50000 and cost <= 100000:\n",
    "    result += str(round(cost * 0.1, 3))\n",
    "else:\n",
    "    result += str(round(cost * 0.05, 3))\n",
    "    \n",
    "print(result)"
   ]
  },
  {
   "cell_type": "markdown",
   "id": "4520de8f-78d4-410e-8c28-bcf8ab514459",
   "metadata": {},
   "source": [
    "***\n",
    "<br>"
   ]
  },
  {
   "cell_type": "markdown",
   "id": "e2274df4-5f37-464b-a0f5-84baff372123",
   "metadata": {},
   "source": [
    "### 3. Accept any city from the user and display monuments of that city."
   ]
  },
  {
   "cell_type": "code",
   "execution_count": 52,
   "id": "569e8b00-d38a-4d74-8087-7c5f07546b25",
   "metadata": {},
   "outputs": [
    {
     "name": "stdin",
     "output_type": "stream",
     "text": [
      "Enter city name :: delhi\n"
     ]
    },
    {
     "name": "stdout",
     "output_type": "stream",
     "text": [
      "Famous Monument :: Red Fort\n"
     ]
    }
   ],
   "source": [
    "aux = {\n",
    "    \"Delhi\" : \"Red Fort\",\n",
    "    \"Agra\" : \"Taj Mahal\",\n",
    "    \"Jaipur\" : \"Jal Mahal\"\n",
    "}\n",
    "\n",
    "cityName = input(\"Enter city name ::\").title()\n",
    "\n",
    "if cityName not in aux:\n",
    "    print(\"Invaid input!\")\n",
    "else:\n",
    "    print(f'Famous Monument :: {aux[cityName]}')"
   ]
  },
  {
   "cell_type": "markdown",
   "id": "ff089591-e225-4a1d-873b-3fa305ad0643",
   "metadata": {},
   "source": [
    "***\n",
    "<br>"
   ]
  },
  {
   "cell_type": "markdown",
   "id": "3077c4b7-e03e-49df-8d12-f90098852190",
   "metadata": {},
   "source": [
    "### 4. Check how many times a given number can be divided by 3 before it is less than or equal to 10."
   ]
  },
  {
   "cell_type": "code",
   "execution_count": 48,
   "id": "843c43f8-ed29-49b8-84a1-9dcbaebb1632",
   "metadata": {},
   "outputs": [
    {
     "name": "stdin",
     "output_type": "stream",
     "text": [
      "Enter number :: 56\n"
     ]
    },
    {
     "name": "stdout",
     "output_type": "stream",
     "text": [
      "56 can be divided by 3 for 2 times before it is less than or equal to 10.\n"
     ]
    }
   ],
   "source": [
    "number = int(input(\"Enter number ::\"))\n",
    "temp = number\n",
    "count = 0\n",
    "\n",
    "while(temp > 10):\n",
    "    temp /= 3\n",
    "    count += 1\n",
    "    \n",
    "print(f\"{number} can be divided by 3 for {count} times before it is less than or equal to 10.\")"
   ]
  },
  {
   "cell_type": "markdown",
   "id": "91e7b8c4-7ac3-4435-a520-59315556d013",
   "metadata": {},
   "source": [
    "***\n",
    "<br>"
   ]
  },
  {
   "cell_type": "markdown",
   "id": "1106a1d9-af44-48cb-a46c-770d2b7ba107",
   "metadata": {},
   "source": [
    "### 5. Why and When to Use while Loop in Python give a detailed description with example"
   ]
  },
  {
   "cell_type": "markdown",
   "id": "9ea3afc4-5910-489e-9e0c-4361ed21f181",
   "metadata": {},
   "source": [
    "While loop is used when we need to perform some operation over a certain range. When we need to end the loop on a condition other than the number of times, we use a while loop. In this case, it is not necessary to know the condition beforehand. That is why we can give a boolean expression in the initialization of the loop.<br><br>\n",
    "For Example, we are given 2 numbers num1 and num2 and we need to square num1 untill it becomes equal to greater than num2."
   ]
  },
  {
   "cell_type": "code",
   "execution_count": 57,
   "id": "aad2c692-3503-4200-83fa-3ac70db5970e",
   "metadata": {},
   "outputs": [
    {
     "name": "stdout",
     "output_type": "stream",
     "text": [
      "num1 :: 390625, num2 :: 1500\n"
     ]
    }
   ],
   "source": [
    "num1 = 5\n",
    "num2 = 1500\n",
    "\n",
    "while(num1 < num2):\n",
    "    num1 **= 2\n",
    "\n",
    "print(f\"num1 :: {num1}, num2 :: {num2}\")"
   ]
  },
  {
   "cell_type": "markdown",
   "id": "fb3830d3-0ff3-40c3-8cfc-a566814616aa",
   "metadata": {},
   "source": [
    "In the above example we don't know the exact number of iterations we will require because the condition depends on the variable which keeps on changing as the loop executes."
   ]
  },
  {
   "cell_type": "markdown",
   "id": "b7a5eff8-86ab-43f3-9caf-b293da27bed0",
   "metadata": {},
   "source": [
    "***\n",
    "<br>"
   ]
  },
  {
   "cell_type": "markdown",
   "id": "38fc46ee-216d-4be2-bd81-648eaf18383d",
   "metadata": {},
   "source": [
    "### 6. Use nested while loop to print 3 different pattern."
   ]
  },
  {
   "cell_type": "code",
   "execution_count": 86,
   "id": "f94342ca-01c1-4763-9cd1-eff5704eb85e",
   "metadata": {},
   "outputs": [],
   "source": [
    "def pattern1(n):\n",
    "    i = 1\n",
    "    while i <= n:\n",
    "        j = 1\n",
    "        while j <= i:\n",
    "            print(j, end=\"\")\n",
    "            j += 1\n",
    "        print()\n",
    "        i += 1"
   ]
  },
  {
   "cell_type": "code",
   "execution_count": 87,
   "id": "e0e939f2-65d3-4549-93c9-9b416dda4538",
   "metadata": {},
   "outputs": [],
   "source": [
    "def pattern2(n):\n",
    "    i = 1\n",
    "    while i <= n:\n",
    "\n",
    "        j = 1\n",
    "        while j <= n-i:\n",
    "            print('*', end=\"\")\n",
    "            j += 1\n",
    "\n",
    "        j = 1\n",
    "        while j <= i:\n",
    "            print(j, end=\"\")\n",
    "            j += 1\n",
    "\n",
    "        print()\n",
    "\n",
    "        i += 1"
   ]
  },
  {
   "cell_type": "code",
   "execution_count": 88,
   "id": "ca5a0fd2-8640-4ef2-a1c7-4bf28b6389b6",
   "metadata": {},
   "outputs": [],
   "source": [
    "def pattern3(n):\n",
    "    i = 1\n",
    "    while i <= n:\n",
    "\n",
    "        j = 1\n",
    "        while j <= n-i:\n",
    "            print('*', end=\"\")\n",
    "            j += 1\n",
    "\n",
    "        j = 1\n",
    "        while j <= i:\n",
    "            print(j, end=\"\")\n",
    "            j += 1\n",
    "\n",
    "        j -= 2\n",
    "\n",
    "        while j >= 1:\n",
    "            print(j, end=\"\")\n",
    "            j -= 1\n",
    "\n",
    "        j = 1\n",
    "        while j <= n-i:\n",
    "            print('*', end=\"\")\n",
    "            j += 1\n",
    "\n",
    "        print()\n",
    "\n",
    "        i += 1"
   ]
  },
  {
   "cell_type": "code",
   "execution_count": 92,
   "id": "f6c5dd89-0948-40be-9e58-da141166306a",
   "metadata": {},
   "outputs": [
    {
     "name": "stdin",
     "output_type": "stream",
     "text": [
      "Enter number :: 5\n"
     ]
    },
    {
     "name": "stdout",
     "output_type": "stream",
     "text": [
      "\n",
      "1\n",
      "12\n",
      "123\n",
      "1234\n",
      "12345\n",
      "\n",
      "****1\n",
      "***12\n",
      "**123\n",
      "*1234\n",
      "12345\n",
      "\n",
      "****1****\n",
      "***121***\n",
      "**12321**\n",
      "*1234321*\n",
      "123454321\n"
     ]
    }
   ],
   "source": [
    "n = int(input(\"Enter number ::\"))\n",
    "print()\n",
    "\n",
    "pattern1(n)\n",
    "print()\n",
    "\n",
    "pattern2(n)\n",
    "print()\n",
    "\n",
    "pattern3(n)"
   ]
  },
  {
   "cell_type": "markdown",
   "id": "67a572d0-d22b-47eb-87ba-d042bcc991cb",
   "metadata": {},
   "source": [
    "***\n",
    "<br>"
   ]
  },
  {
   "cell_type": "markdown",
   "id": "965128b2-8ca5-4927-aa42-ac930c1018a3",
   "metadata": {},
   "source": [
    "### 7. Reverse a while loop to display numbers from 10 to 1."
   ]
  },
  {
   "cell_type": "code",
   "execution_count": 94,
   "id": "9afd1aab-2f74-42e2-a962-2932d1a8095a",
   "metadata": {},
   "outputs": [
    {
     "name": "stdout",
     "output_type": "stream",
     "text": [
      "10 9 8 7 6 5 4 3 2 1 "
     ]
    }
   ],
   "source": [
    "i = 10\n",
    "\n",
    "while i >= 1:\n",
    "    print(i, end = \" \")\n",
    "    i -= 1"
   ]
  },
  {
   "cell_type": "markdown",
   "id": "785f98a3-5148-46a5-9d37-c3eda47f1594",
   "metadata": {},
   "source": [
    "***\n",
    "<br>"
   ]
  },
  {
   "cell_type": "markdown",
   "id": "a1460a6e-f80f-47b9-97d5-7560627e38e6",
   "metadata": {},
   "source": [
    "### 8. Reverse a while loop to display numbers from 10 to 1"
   ]
  },
  {
   "cell_type": "code",
   "execution_count": 95,
   "id": "d5a13bb2-3b09-47a7-98e6-9321d641c909",
   "metadata": {},
   "outputs": [
    {
     "name": "stdout",
     "output_type": "stream",
     "text": [
      "10 9 8 7 6 5 4 3 2 1 "
     ]
    }
   ],
   "source": [
    "i = 10\n",
    "\n",
    "while i >= 1:\n",
    "    print(i, end = \" \")\n",
    "    i -= 1"
   ]
  },
  {
   "cell_type": "markdown",
   "id": "102ced12-4462-485a-9074-128dc72be709",
   "metadata": {},
   "source": [
    "***\n",
    "<br>"
   ]
  }
 ],
 "metadata": {
  "kernelspec": {
   "display_name": "Python 3 (ipykernel)",
   "language": "python",
   "name": "python3"
  },
  "language_info": {
   "codemirror_mode": {
    "name": "ipython",
    "version": 3
   },
   "file_extension": ".py",
   "mimetype": "text/x-python",
   "name": "python",
   "nbconvert_exporter": "python",
   "pygments_lexer": "ipython3",
   "version": "3.10.6"
  }
 },
 "nbformat": 4,
 "nbformat_minor": 5
}
