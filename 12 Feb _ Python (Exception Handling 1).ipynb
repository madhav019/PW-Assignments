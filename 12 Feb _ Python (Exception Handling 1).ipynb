{
 "cells": [
  {
   "cell_type": "markdown",
   "id": "6f7e5af5-fcc3-4a99-a599-121d24e2b09e",
   "metadata": {},
   "source": [
    "#### 1. What is an Exception in python? Write the difference between Exceptions and Syntax errors."
   ]
  },
  {
   "cell_type": "markdown",
   "id": "407200ca-8d80-4d26-ba8d-902d96188348",
   "metadata": {},
   "source": [
    "In Python, an exception is an error that occurs during the execution of a program. When an exception occurs, the normal flow of the program is disrupted and the program terminates abruptly, unless the exception is handled by the code.\n",
    "\n",
    "Exceptions can be caused by a variety of reasons, such as incorrect input, invalid operations, or running out of system resources. Examples of exceptions in Python include TypeError, ValueError, NameError, and FileNotFoundError.\n",
    "\n",
    "On the other hand, syntax errors are errors that occur when the Python interpreter cannot parse a line of code because it violates the rules of the Python language. Syntax errors occur before the program is executed and are detected by the Python interpreter during the parsing phase. Examples of syntax errors in Python include forgetting a colon at the end of an if statement or forgetting to close a bracket."
   ]
  },
  {
   "cell_type": "markdown",
   "id": "c9b4afcc-22db-4908-9682-265eabb9932a",
   "metadata": {},
   "source": [
    "***\n",
    "<br>"
   ]
  },
  {
   "cell_type": "markdown",
   "id": "23c0b775-52f7-45bd-863d-0874707a3b95",
   "metadata": {},
   "source": [
    "#### 2. What happens when an exception is not handled? Explain with an example."
   ]
  },
  {
   "cell_type": "markdown",
   "id": "9eb8bc84-f0f6-403a-8c1d-7bdc8a538e31",
   "metadata": {},
   "source": [
    "When an exception is not handled in a Python program, the program will terminate abruptly and display an error message that describes the exception that occurred. This can make it difficult for users to understand what went wrong and can also leave the program in an inconsistent state."
   ]
  },
  {
   "cell_type": "code",
   "execution_count": 1,
   "id": "88de3a38-7923-4a65-8dbd-d902c15caea5",
   "metadata": {},
   "outputs": [
    {
     "ename": "ZeroDivisionError",
     "evalue": "division by zero",
     "output_type": "error",
     "traceback": [
      "\u001b[0;31m---------------------------------------------------------------------------\u001b[0m",
      "\u001b[0;31mZeroDivisionError\u001b[0m                         Traceback (most recent call last)",
      "Cell \u001b[0;32mIn [1], line 4\u001b[0m\n\u001b[1;32m      1\u001b[0m \u001b[38;5;28;01mdef\u001b[39;00m \u001b[38;5;21mfunction\u001b[39m(n):\n\u001b[1;32m      2\u001b[0m     \u001b[38;5;28;01mreturn\u001b[39;00m \u001b[38;5;241m100\u001b[39m\u001b[38;5;241m/\u001b[39mn\n\u001b[0;32m----> 4\u001b[0m \u001b[43mfunction\u001b[49m\u001b[43m(\u001b[49m\u001b[38;5;241;43m0\u001b[39;49m\u001b[43m)\u001b[49m\n",
      "Cell \u001b[0;32mIn [1], line 2\u001b[0m, in \u001b[0;36mfunction\u001b[0;34m(n)\u001b[0m\n\u001b[1;32m      1\u001b[0m \u001b[38;5;28;01mdef\u001b[39;00m \u001b[38;5;21mfunction\u001b[39m(n):\n\u001b[0;32m----> 2\u001b[0m     \u001b[38;5;28;01mreturn\u001b[39;00m \u001b[38;5;241;43m100\u001b[39;49m\u001b[38;5;241;43m/\u001b[39;49m\u001b[43mn\u001b[49m\n",
      "\u001b[0;31mZeroDivisionError\u001b[0m: division by zero"
     ]
    }
   ],
   "source": [
    "def function(n):\n",
    "    return 100/n\n",
    "\n",
    "function(0)"
   ]
  },
  {
   "cell_type": "markdown",
   "id": "482fb830-5505-431c-8bc9-210b13467fd2",
   "metadata": {},
   "source": [
    "In the above example, when the function is called with an argument of 0, it will raise a ZeroDivisionError because division by zero is not allowed in Python. Since the exception handing is not done in the above code so the program got terminated with error."
   ]
  },
  {
   "cell_type": "code",
   "execution_count": 2,
   "id": "867d51cc-e862-4123-b54e-056e75f13d68",
   "metadata": {},
   "outputs": [
    {
     "name": "stdout",
     "output_type": "stream",
     "text": [
      "Exception occured!!! division by zero\n"
     ]
    }
   ],
   "source": [
    "def function(n):\n",
    "    try:\n",
    "        return 100 / n\n",
    "    except Exception as e:\n",
    "        print(\"Exception occured!!!\", e)\n",
    "\n",
    "function(0)"
   ]
  },
  {
   "cell_type": "markdown",
   "id": "1473c57b-2c51-499f-8382-09784f61f827",
   "metadata": {},
   "source": [
    "After using try-except block the program didn't terminated but raised a eroDivisionError because division by zero is not allowed in Python. However, the exception is caught by the try-except block, and the code in the except block is executed."
   ]
  },
  {
   "cell_type": "markdown",
   "id": "7fa403ec-0248-49e7-9742-c91feafe03f6",
   "metadata": {},
   "source": [
    "***\n",
    "<br>"
   ]
  },
  {
   "cell_type": "markdown",
   "id": "b5360a6d-c554-4899-a501-46576192f915",
   "metadata": {},
   "source": [
    "#### 3. Which Python statements are used to catch and handle exceptions? Explain with an example."
   ]
  },
  {
   "cell_type": "markdown",
   "id": "5c4fc5ee-e86b-4747-83ca-e4c9657044b2",
   "metadata": {},
   "source": [
    "In Python, the try and except statements are used to catch and handle exceptions. The try block contains the code that might raise an exception, and the except block contains the code that will be executed if an exception is raised."
   ]
  },
  {
   "cell_type": "code",
   "execution_count": 3,
   "id": "24850f09-0115-4222-94dd-5ea681bfdfcd",
   "metadata": {},
   "outputs": [
    {
     "name": "stdout",
     "output_type": "stream",
     "text": [
      "The result is 5.0\n",
      "Processing completed!\n",
      "\n",
      "Some error occured! => unsupported operand type(s) for /: 'int' and 'str'\n",
      "Processing completed!\n",
      "\n",
      "Error: Cannot divide by zero!\n",
      "Processing completed!\n",
      "\n"
     ]
    }
   ],
   "source": [
    "def divide(x, y):\n",
    "    try:\n",
    "        result = x / y\n",
    "    except ZeroDivisionError:\n",
    "        print(\"Error: Cannot divide by zero!\")\n",
    "    except Exception as e:\n",
    "        print(\"Some error occured! =>\", e)\n",
    "    else:\n",
    "        print(f\"The result is {result}\")\n",
    "    finally:\n",
    "        print(\"Processing completed!\\n\")\n",
    "\n",
    "divide(10, 2)\n",
    "divide(10, 'a')\n",
    "divide(10, 0)"
   ]
  },
  {
   "cell_type": "markdown",
   "id": "f6badfa5-c6c8-4771-bf34-ef666ecee80e",
   "metadata": {},
   "source": [
    "***\n",
    "<br>"
   ]
  },
  {
   "cell_type": "markdown",
   "id": "505a4a00-a656-4728-aff2-0171d4ef46b6",
   "metadata": {},
   "source": [
    "#### 4. Explain with an example:"
   ]
  },
  {
   "cell_type": "markdown",
   "id": "6c7fd7d9-8030-42e9-b1ef-8527efd5d738",
   "metadata": {},
   "source": [
    "__<code>try and except</code>__"
   ]
  },
  {
   "cell_type": "markdown",
   "id": "d41dfdf7-3dd4-49f5-80ff-c37fc7026e3c",
   "metadata": {},
   "source": [
    "The try block is used to enclose the code that may raise an exception. The else block is executed only if the try block is successfully executed, without any exception raised. "
   ]
  },
  {
   "cell_type": "code",
   "execution_count": 4,
   "id": "650898ef-66a3-41d7-ba70-c7e766b40228",
   "metadata": {},
   "outputs": [
    {
     "name": "stdout",
     "output_type": "stream",
     "text": [
      "Invalid input! unsupported operand type(s) for ** or pow(): 'str' and 'int' \n",
      "\n",
      "The square of 4 is 16.\n",
      "\n"
     ]
    }
   ],
   "source": [
    "def function(num):\n",
    "    try:\n",
    "        num_sqr = num**2\n",
    "    except Exception as e:\n",
    "        print(\"Invalid input!\", e, '\\n')\n",
    "    else:\n",
    "        print(f\"The square of {num} is {num_sqr}.\\n\")\n",
    "        \n",
    "function('s')\n",
    "function(4)"
   ]
  },
  {
   "cell_type": "markdown",
   "id": "a9367637-b2af-491d-a774-4e89d7f68781",
   "metadata": {},
   "source": [
    "__<code>finally</code>__"
   ]
  },
  {
   "cell_type": "markdown",
   "id": "e451edbf-345f-486b-b15a-8219d7a75846",
   "metadata": {},
   "source": [
    "The finally block is used to enclose the code that should be executed regardless of whether an exception was raised or not. "
   ]
  },
  {
   "cell_type": "code",
   "execution_count": 5,
   "id": "5db21998-8a10-49c6-a80d-d96f0f8e7991",
   "metadata": {},
   "outputs": [
    {
     "name": "stdout",
     "output_type": "stream",
     "text": [
      "['name', 'email_id', 'phone_number']\n",
      "['Madhav', 'madhav@gamil.com', '1568766']\n",
      "['Chawla', 'chawla@gmail.com', '745463']\n"
     ]
    }
   ],
   "source": [
    "import csv\n",
    "\n",
    "try:\n",
    "    file = open('data.csv', 'r')\n",
    "    data = csv.reader(file, delimiter=',')\n",
    "    for line in data:\n",
    "        print(line)\n",
    "finally:\n",
    "    file.close()"
   ]
  },
  {
   "cell_type": "markdown",
   "id": "8fa456bd-bbaf-4ba5-8d0e-e630b145e4ca",
   "metadata": {},
   "source": [
    "__<code>raise</code>__"
   ]
  },
  {
   "cell_type": "markdown",
   "id": "a16b998a-59a6-4551-ab70-03758d9f9392",
   "metadata": {},
   "source": [
    "The raise keyword is used to raise an exception manually. We can raise custom exception or already existing python exception with custom message."
   ]
  },
  {
   "cell_type": "code",
   "execution_count": 6,
   "id": "84868fce-42a7-4143-b594-39f4eb580971",
   "metadata": {},
   "outputs": [
    {
     "name": "stdout",
     "output_type": "stream",
     "text": [
      "5.0\n",
      "\n",
      "Exception occured! => Cannot divide by zero!\n"
     ]
    }
   ],
   "source": [
    "def divide(x, y):\n",
    "    try:\n",
    "        if y == 0:\n",
    "            raise ZeroDivisionError(\"Cannot divide by zero!\")\n",
    "    except Exception as e:\n",
    "        return f\"Exception occured! => {e}\"\n",
    "    else:\n",
    "        return f\"{x / y}\\n\"\n",
    "\n",
    "print(divide(10, 2))\n",
    "print(divide(10, 0))"
   ]
  },
  {
   "cell_type": "markdown",
   "id": "503c51a2-d59d-466b-88e6-f12525e9adc2",
   "metadata": {},
   "source": [
    "***\n",
    "<br>"
   ]
  },
  {
   "cell_type": "markdown",
   "id": "639b50be-73c9-48db-b237-c9539c543cf8",
   "metadata": {},
   "source": [
    "#### 5. What are Custom Exceptions in python? Why do we need Custom Exceptions? Explain with an example."
   ]
  },
  {
   "cell_type": "markdown",
   "id": "02280c7e-9dd6-4b9b-a548-20841d53d4cf",
   "metadata": {},
   "source": [
    "Custom exceptions are user-defined exceptions in Python. They are used to raise and handle errors that are specific to the user's program or application. Custom exceptions can be created by defining a new class that inherits from the built-in Exception class.\n",
    "\n",
    "We need custom exceptions in Python to make our code more organized, reusable, and easier to maintain. By defining our own exceptions, we can handle specific error cases that are relevant to our program's domain, and provide more informative error messages to users or other developers who use our code."
   ]
  },
  {
   "cell_type": "code",
   "execution_count": 7,
   "id": "6aa396cb-996f-48e5-bdb0-67c6f3556286",
   "metadata": {},
   "outputs": [],
   "source": [
    "class NegativeNumberError(Exception):\n",
    "    def __init__(self, msg):\n",
    "        self.msg = msg"
   ]
  },
  {
   "cell_type": "code",
   "execution_count": 8,
   "id": "10c25d1e-4b72-4052-9213-ece28d4ca558",
   "metadata": {},
   "outputs": [],
   "source": [
    "def function(n):\n",
    "    if n < 0:\n",
    "        raise NegativeNumberError(\"Entered number is negative!\")\n",
    "    else:\n",
    "        return n**2"
   ]
  },
  {
   "cell_type": "code",
   "execution_count": 9,
   "id": "57765476-5b20-4df0-8482-1e87bf6e9787",
   "metadata": {},
   "outputs": [
    {
     "name": "stdout",
     "output_type": "stream",
     "text": [
      "625\n",
      "Exception occured! => Entered number is negative!\n"
     ]
    }
   ],
   "source": [
    "try:\n",
    "    print(function(25))\n",
    "    print(function(-25))\n",
    "except Exception as e:\n",
    "    print(\"Exception occured! =>\", e)"
   ]
  },
  {
   "cell_type": "markdown",
   "id": "4bf55b8d-c538-4c52-8130-2944738347e6",
   "metadata": {},
   "source": [
    "In the above example if the exception is not raised then answer for both statements would be same."
   ]
  },
  {
   "cell_type": "markdown",
   "id": "ed531bce-b301-49b8-b013-5105677ceaf5",
   "metadata": {},
   "source": [
    "***\n",
    "<br>"
   ]
  },
  {
   "cell_type": "markdown",
   "id": "69c5b060-108d-4466-9e4f-2cfec39ca5d2",
   "metadata": {},
   "source": [
    "#### 6. Create a custom exception class. Use this class to handle an exception."
   ]
  },
  {
   "cell_type": "code",
   "execution_count": 10,
   "id": "388b3211-3aac-4936-bb33-09276036d8df",
   "metadata": {},
   "outputs": [],
   "source": [
    "class WrongFileFormat(Exception):\n",
    "    def __init__(self, msg):\n",
    "        self.msg = msg"
   ]
  },
  {
   "cell_type": "code",
   "execution_count": 11,
   "id": "e7b7c7bf-dc1d-42f1-ac6a-d793ad2042fc",
   "metadata": {},
   "outputs": [],
   "source": [
    "import json\n",
    "\n",
    "def extractJSON(fileName):\n",
    "    extension = fileName.split('.')[-1]\n",
    "    if extension != 'json':\n",
    "        raise WrongFileFormat(\"File format is not json\")\n",
    "    else:\n",
    "        with open(fileName, 'r') as f:\n",
    "            return json.load(f)"
   ]
  },
  {
   "cell_type": "code",
   "execution_count": 12,
   "id": "c44571bb-4d07-465e-9558-829dc6a44e96",
   "metadata": {},
   "outputs": [
    {
     "name": "stdout",
     "output_type": "stream",
     "text": [
      "{'name': 'Madhav', 'mail_id': 'madhav@gmail.com', 'phone': 165164561}\n"
     ]
    }
   ],
   "source": [
    "try:\n",
    "    data = extractJSON('data.json')\n",
    "except Exception as e:\n",
    "    print(\"Some Error Occured! =>\", e)\n",
    "except WrongFileFormat as e:\n",
    "    print(e)\n",
    "else:\n",
    "    print(data)"
   ]
  },
  {
   "cell_type": "markdown",
   "id": "8a09ab9e-8dfb-40ba-a9f5-637d2525e588",
   "metadata": {},
   "source": [
    "***\n",
    "<br>"
   ]
  }
 ],
 "metadata": {
  "kernelspec": {
   "display_name": "Python 3 (ipykernel)",
   "language": "python",
   "name": "python3"
  },
  "language_info": {
   "codemirror_mode": {
    "name": "ipython",
    "version": 3
   },
   "file_extension": ".py",
   "mimetype": "text/x-python",
   "name": "python",
   "nbconvert_exporter": "python",
   "pygments_lexer": "ipython3",
   "version": "3.10.6"
  }
 },
 "nbformat": 4,
 "nbformat_minor": 5
}
