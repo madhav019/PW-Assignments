{
 "cells": [
  {
   "cell_type": "markdown",
   "id": "a2862775-857a-4601-99a8-ccb05f1a5a6c",
   "metadata": {},
   "source": [
    "#### 1 What is multithreading in python? Why is it used? Name the module used to handle threads in python. "
   ]
  },
  {
   "cell_type": "markdown",
   "id": "325776e6-0fb3-4143-9e85-66c1b428dc62",
   "metadata": {},
   "source": [
    "Multithreading in Python is a way of running multiple threads (smaller units of a program) simultaneously in a single process. A thread is a lightweight process that can run in parallel with other threads within the same process.\n",
    "\n",
    "Multithreading is used in Python for a variety of reasons, including:\n",
    "\n",
    "* __Improved performance:__ Multithreading can help improve the performance of programs that need to perform multiple tasks simultaneously by distributing the work across multiple threads.\n",
    "\n",
    "* __Better resource utilization:__ Multithreading allows programs to make better use of available hardware resources, such as CPU cores, by running multiple threads in parallel.\n",
    "\n",
    "* __Improved user experience:__ Multithreading can be used to improve the user experience of applications by allowing them to perform multiple tasks in the background while still responding to user input.\n",
    "\n",
    "The module used to handle threads in Python is called <code>__threading__</code>. This module provides a simple way to create and manage threads in Python. It includes functions for creating new threads, starting and stopping threads, and synchronizing access to shared resources using locks and other synchronization primitives. The threading module is part of the standard Python library and is available on all platforms that support Python."
   ]
  },
  {
   "cell_type": "markdown",
   "id": "3244f638-a6fc-4f61-a9cb-ff391fb8df1a",
   "metadata": {},
   "source": [
    "***\n",
    "<br>"
   ]
  },
  {
   "cell_type": "markdown",
   "id": "9a8388b6-5eee-4f16-a8e2-b1d6a03737c3",
   "metadata": {},
   "source": [
    "#### 2. Why threading module used? Write the use of the following functions:\n",
    "\n",
    "1. activeCount()\n",
    "2. currentThread() \n",
    "3. enumerate()"
   ]
  },
  {
   "cell_type": "code",
   "execution_count": 19,
   "id": "afd2c8aa-fbbf-46d6-8349-46350fe96850",
   "metadata": {},
   "outputs": [],
   "source": [
    "import threading, time\n",
    "\n",
    "def test(id):\n",
    "    print(f\"Process {id}\")\n",
    "    time.sleep(1)"
   ]
  },
  {
   "cell_type": "markdown",
   "id": "7c847528-ab38-4205-a8ec-b614fa751a89",
   "metadata": {},
   "source": [
    "The __threading__ module in Python is used for concurrent programming, allowing multiple threads of execution to run concurrently within a single program. The module provides a number of useful functions for working with threads, including:"
   ]
  },
  {
   "cell_type": "markdown",
   "id": "4def090b-cb17-41cc-a065-ffd3637cf250",
   "metadata": {},
   "source": [
    "* __activeCount():__ This function returns the number of thread objects that are active in the current thread's thread object hierarchy. This can be useful for monitoring the status of threads in a program."
   ]
  },
  {
   "cell_type": "code",
   "execution_count": 39,
   "id": "a281721a-e697-42e8-92dc-b43b244d1080",
   "metadata": {},
   "outputs": [
    {
     "name": "stdout",
     "output_type": "stream",
     "text": [
      "Threads created by our code :: [<Thread(Thread-135 (test), initial)>, <Thread(Thread-136 (test), initial)>, <Thread(Thread-137 (test), initial)>, <Thread(Thread-138 (test), initial)>]\n",
      "\n",
      "Initial Threads used by jupyter notebook = 8\n",
      "\n",
      "\n",
      "Current running threads = 1\n",
      "Process 0\n",
      "\n",
      "Current running threads = 2\n",
      "Process 1\n",
      "\n",
      "Current running threads = 3\n",
      "Process 2\n",
      "\n",
      "Current running threads = 4\n",
      "Process 3\n"
     ]
    }
   ],
   "source": [
    "threads = [threading.Thread(target=test, args=(i,)) for i in range(4)]\n",
    "print(f\"Threads created by our code :: {threads}\\n\")\n",
    "\n",
    "print(f\"Initial Threads used by jupyter notebook = {threading.active_count()}\\n\")\n",
    "jupyter_threads = threading.active_count() - 1\n",
    "\n",
    "for thread in threads:\n",
    "    print(f\"\\nCurrent running threads = {threading.active_count() - jupyter_threads}\")\n",
    "    thread.start()"
   ]
  },
  {
   "cell_type": "markdown",
   "id": "43da4039-d5cd-4d75-a095-f0292cc8727f",
   "metadata": {},
   "source": [
    "__Note:__ Since Jupyter Notebook uses some threads internally, the initial thread count is higher than expected when running Python code within the Jupyter environment. In this case, we have subtractracted the number of Jupyter threads from the total active thread count to determine the actual number of threads created by our code."
   ]
  },
  {
   "cell_type": "markdown",
   "id": "9433f036-0183-4166-bfec-b6c9b8e76e42",
   "metadata": {},
   "source": [
    "* __currentThread():__ This function returns a reference to the currently executing thread object. This can be useful for identifying the thread that is currently running and performing actions based on its state."
   ]
  },
  {
   "cell_type": "code",
   "execution_count": 38,
   "id": "65e21d73-cf9c-42d6-bdce-1e6c25710500",
   "metadata": {},
   "outputs": [
    {
     "name": "stdout",
     "output_type": "stream",
     "text": [
      "Threads created by our code :: [<Thread(Thread-131 (test), initial)>, <Thread(Thread-132 (test), initial)>, <Thread(Thread-133 (test), initial)>, <Thread(Thread-134 (test), initial)>]\n",
      "\n",
      "Process 0\n",
      "<_MainThread(MainThread, started 139946651981632)>\n",
      "Process 1\n",
      "<_MainThread(MainThread, started 139946651981632)>\n",
      "Process 2\n",
      "<_MainThread(MainThread, started 139946651981632)>\n",
      "Process 3\n",
      "<_MainThread(MainThread, started 139946651981632)>\n"
     ]
    }
   ],
   "source": [
    "threads = [threading.Thread(target=test, args=(i,)) for i in range(4)]\n",
    "print(f\"Threads created by our code :: {threads}\\n\")\n",
    "\n",
    "for thread in threads:\n",
    "    thread.start()\n",
    "    print(threading.current_thread())"
   ]
  },
  {
   "cell_type": "markdown",
   "id": "e59c43ac-8e31-437c-9fa7-0d6b7be03afc",
   "metadata": {},
   "source": [
    "* __enumerate():__ This function returns a list of all thread objects that are currently active in the current thread's thread object hierarchy. This can be useful for iterating over all active threads in a program and performing actions on each one. By default, the list returned by enumerate() includes the current thread object."
   ]
  },
  {
   "cell_type": "code",
   "execution_count": 37,
   "id": "767f4534-846b-400b-b38b-adac0ec07464",
   "metadata": {},
   "outputs": [
    {
     "name": "stdout",
     "output_type": "stream",
     "text": [
      "Threads created by our code :: [<Thread(Thread-127 (test), initial)>, <Thread(Thread-128 (test), initial)>, <Thread(Thread-129 (test), initial)>, <Thread(Thread-130 (test), initial)>]\n",
      "\n",
      "Process 0\n",
      "Process 1\n",
      "Process 2\n",
      "Process 3\n",
      "\n",
      "Threads currently running other than jupyter notebook's internal threads ::  [<Thread(Thread-130 (test), started 139945860650560)>, <Thread(Thread-127 (test), started 139946291598912)>, <Thread(Thread-128 (test), started 139945869043264)>, <Thread(Thread-129 (test), started 139946299991616)>]\n"
     ]
    }
   ],
   "source": [
    "jupyter_threads = set(threading.enumerate())\n",
    "\n",
    "threads = [threading.Thread(target=test, args=(i,)) for i in range(4)]\n",
    "print(f\"Threads created by our code :: {threads}\\n\")\n",
    "\n",
    "for thread in threads:\n",
    "    thread.start()\n",
    "\n",
    "print(\"\\nThreads currently running other than jupyter notebook's internal threads :: \", list(set(threading.enumerate()) - jupyter_threads))"
   ]
  },
  {
   "cell_type": "markdown",
   "id": "302d9b3c-b64d-4657-9347-ddf2565b2a25",
   "metadata": {},
   "source": [
    "***\n",
    "<br>"
   ]
  },
  {
   "cell_type": "markdown",
   "id": "efaae89b-a332-4ffc-9dec-dec4cf8f92b2",
   "metadata": {},
   "source": [
    "#### 3. Explain the following functions:\n",
    "\n",
    "1. run() \n",
    "2. start()\n",
    "3. join()\n",
    "4. isAlive()"
   ]
  },
  {
   "cell_type": "markdown",
   "id": "79bbfdab-3d9a-4ee1-ba1b-e5181e69c460",
   "metadata": {},
   "source": [
    "* __run() :__ This method is called when you start a new thread using the Thread class in Python. It defines the code that will be executed in the new thread. You should override this method in your subclass of Thread to provide the logic for the thread.\n",
    "\n",
    "* __start() :__ This method is called to start a new thread. It creates a new thread and calls the run() method in the new thread. You should call this method on your Thread object to start the thread.\n",
    "\n",
    "* __join() :__ This method is called to wait for a thread to finish executing. If you call join() on a thread, the current thread will wait until the thread you called join() on finishes executing before continuing. You should use this method if you need to make sure a thread has finished before continuing with the rest of your program.\n",
    "\n",
    "* __isAlive() :__ This method is called to check whether a thread is currently running. It returns True if the thread is still running, and False otherwise. You can use this method to check the status of a thread and decide whether to wait for it to finish or not."
   ]
  },
  {
   "cell_type": "code",
   "execution_count": 44,
   "id": "11df2664-66a4-4a65-9d1d-58d002b026d8",
   "metadata": {},
   "outputs": [],
   "source": [
    "class MyThread(threading.Thread):\n",
    "    def __init__(self, id):\n",
    "        threading.Thread.__init__(self)\n",
    "        self.id = id\n",
    "    \n",
    "    def run(self):\n",
    "        print(f'Process {self.id} started.....')\n",
    "        time.sleep(1)\n",
    "        print(f'Process {self.id} completed....')"
   ]
  },
  {
   "cell_type": "code",
   "execution_count": 48,
   "id": "ef3cc975-db61-4af2-a455-0e5693a2b00a",
   "metadata": {},
   "outputs": [
    {
     "name": "stdout",
     "output_type": "stream",
     "text": [
      "Process 1 started.....\n",
      "Process 2 started.....\n",
      "Process 1 completed....\n",
      "Process 2 completed....\n"
     ]
    }
   ],
   "source": [
    "t1 = MyThread(1)\n",
    "t2 = MyThread(2)\n",
    "\n",
    "t1.start()\n",
    "t2.start()"
   ]
  },
  {
   "cell_type": "markdown",
   "id": "afd3a99e-29f1-41fc-9008-9a8bc4cf4d53",
   "metadata": {},
   "source": [
    "__Note :__ In the above example we can observe that before Process 1 was completed, Process 2 has started and the task which thread is performing is written in run function."
   ]
  },
  {
   "cell_type": "code",
   "execution_count": 49,
   "id": "68312795-34b9-41c0-be8f-2148f1d37c44",
   "metadata": {},
   "outputs": [
    {
     "name": "stdout",
     "output_type": "stream",
     "text": [
      "Process 1 started.....\n",
      "Process 1 completed....\n",
      "Process 2 started.....\n",
      "Process 2 completed....\n"
     ]
    }
   ],
   "source": [
    "t1 = MyThread(1)\n",
    "t2 = MyThread(2)\n",
    "\n",
    "t1.start()\n",
    "t1.join()\n",
    "\n",
    "t2.start()"
   ]
  },
  {
   "cell_type": "markdown",
   "id": "18b16c8a-77c8-4f36-a31f-af7b33018bc3",
   "metadata": {},
   "source": [
    "__Note :__ In the above example we can observe that before Process 1 was completed first and then Process 2 has started. This is because we have used join in this case which keeps process 2 wait untill current running thread has completed eecuted."
   ]
  },
  {
   "cell_type": "code",
   "execution_count": 57,
   "id": "0a5eef0d-97c7-4530-96d8-740037a7f827",
   "metadata": {},
   "outputs": [
    {
     "name": "stdout",
     "output_type": "stream",
     "text": [
      "Process 1 started.....\n",
      "Process 1 Alive :: True\n",
      "Process 1 completed....\n",
      "Process 1 Alive :: False\n",
      "\n",
      "Process 2 started.....\n",
      "Process 2 Alive :: True\n",
      "Process 2 completed....\n",
      "Process 2 Alive :: False\n"
     ]
    }
   ],
   "source": [
    "t1 = MyThread(1)\n",
    "t2 = MyThread(2)\n",
    "\n",
    "t1.start()\n",
    "print(f'Process 1 Alive :: {t1.is_alive()}')\n",
    "t1.join()\n",
    "print(f'Process 1 Alive :: {t1.is_alive()}\\n')\n",
    "\n",
    "t2.start()\n",
    "print(f'Process 2 Alive :: {t2.is_alive()}')\n",
    "t2.join()\n",
    "print(f'Process 2 Alive :: {t2.is_alive()}')"
   ]
  },
  {
   "cell_type": "markdown",
   "id": "155e123c-ac01-4283-8193-8381e8915c80",
   "metadata": {},
   "source": [
    "__Note :__ In the above example we can observe that is_alive function gives true if the thread is under execution else false is given."
   ]
  },
  {
   "cell_type": "markdown",
   "id": "310d807f-6614-450b-b201-86edbe72a542",
   "metadata": {},
   "source": [
    "***\n",
    "<br>"
   ]
  },
  {
   "cell_type": "markdown",
   "id": "f8202fef-0b05-4e2c-8622-5d244022e9fe",
   "metadata": {},
   "source": [
    "#### 4. Write a python program to create two threads. Thread one must print the list of squares and thread two must print the list of cubes.\n"
   ]
  },
  {
   "cell_type": "code",
   "execution_count": 76,
   "id": "a9ee8716-4059-4fdc-b203-b9a8f07c8974",
   "metadata": {},
   "outputs": [],
   "source": [
    "class Squares(threading.Thread):\n",
    "    def __init__(self, lst):\n",
    "        threading.Thread.__init__(self)\n",
    "        self.lst = lst\n",
    "        self.result = None\n",
    "    \n",
    "    def run(self):\n",
    "        self.result = [i**2 for i in self.lst]"
   ]
  },
  {
   "cell_type": "code",
   "execution_count": 77,
   "id": "40f3fc62-671a-4d20-aae4-c7bc072d1e7e",
   "metadata": {},
   "outputs": [],
   "source": [
    "class Cubes(threading.Thread):\n",
    "    def __init__(self, lst):\n",
    "        threading.Thread.__init__(self)\n",
    "        self.lst = lst\n",
    "        self.result = None\n",
    "    \n",
    "    def run(self):\n",
    "        self.result = [i**3 for i in self.lst]"
   ]
  },
  {
   "cell_type": "code",
   "execution_count": 80,
   "id": "4b7abc38-1f6b-4ce2-b7da-c779ef9e6e9d",
   "metadata": {},
   "outputs": [
    {
     "name": "stdout",
     "output_type": "stream",
     "text": [
      "Squares :: [1, 4, 9, 16, 25]\n",
      "Cubes :: [1, 8, 27, 64, 125]\n"
     ]
    }
   ],
   "source": [
    "num = [1, 2, 3, 4, 5]\n",
    "\n",
    "t1 = Squares(num)\n",
    "t2 = Cubes(num)\n",
    "\n",
    "t1.start()\n",
    "t2.start()\n",
    "\n",
    "print(f'Squares :: {t1.result}')\n",
    "print(f'Cubes :: {t2.result}')"
   ]
  },
  {
   "cell_type": "markdown",
   "id": "546115af-6071-43fa-8449-98260ea23e84",
   "metadata": {},
   "source": [
    "***\n",
    "<br>"
   ]
  },
  {
   "cell_type": "markdown",
   "id": "ca6130a8-db19-4a73-98b0-a561f236ae4e",
   "metadata": {},
   "source": [
    "\n",
    "#### 5. State advantages and disadvantages of multithreading.\n",
    "\n"
   ]
  },
  {
   "cell_type": "markdown",
   "id": "f6f74e0f-333a-486b-a5ab-54f640963f92",
   "metadata": {},
   "source": [
    "Multithreading is a technique in which multiple threads are created within a single process, allowing different parts of the program to execute concurrently. Multithreading has several advantages and disadvantages, which are described below:\n",
    "\n",
    "__Advantages of Multithreading:__\n",
    "\n",
    "* __Improved performance:__ Multithreading can improve the performance of a program by allowing different parts of the program to run simultaneously. This can help to reduce the overall execution time of the program.\n",
    "\n",
    "* __Better resource utilization:__ Multithreading allows multiple threads to share the resources of a single process. This can help to reduce resource contention and improve resource utilization.\n",
    "\n",
    "* __Enhanced responsiveness:__ Multithreading can help to improve the responsiveness of a program by allowing it to continue executing while waiting for a resource or an I/O operation to complete.\n",
    "\n",
    "* __Better scalability:__ Multithreading can improve the scalability of a program by allowing it to take advantage of multiple processors or cores.\n",
    "\n",
    "__Disadvantages of Multithreading:__\n",
    "\n",
    "* __Increased complexity:__ Multithreading can increase the complexity of a program, making it more difficult to design, test, and debug.\n",
    "\n",
    "* __Synchronization issues:__ Multithreading can introduce synchronization issues, such as race conditions and deadlocks, which can be difficult to detect and debug.\n",
    "\n",
    "* __Resource contention:__ Multithreading can lead to resource contention, which can reduce performance and increase the likelihood of synchronization issues.\n",
    "\n",
    "* __Overhead:__ Multithreading can introduce overhead, such as the cost of thread creation, context switching, and synchronization, which can reduce performance."
   ]
  },
  {
   "cell_type": "markdown",
   "id": "c922f516-2f37-4bae-a9a9-16ce61b6de83",
   "metadata": {},
   "source": [
    "***\n",
    "<br>"
   ]
  },
  {
   "cell_type": "markdown",
   "id": "ba534522-8b4d-4c56-88c1-c19d84f0da27",
   "metadata": {},
   "source": [
    "#### 6. Explain deadlocks and race conditions."
   ]
  },
  {
   "cell_type": "markdown",
   "id": "38df678f-64b6-4b6f-985e-ffa56376f597",
   "metadata": {},
   "source": [
    "Deadlocks and race conditions are both types of synchronization issues that can occur in concurrent programming.\n",
    "\n",
    "__Deadlocks:__\n",
    "A deadlock occurs when two or more threads are blocked, waiting for each other to release a resource that they need to proceed. In other words, each thread is waiting for the other thread to release a resource, resulting in a situation where none of the threads can proceed. Deadlocks can occur when two or more threads acquire locks on shared resources in a different order. Deadlocks can be difficult to detect and debug since they can occur intermittently and lead to programs that appear to hang or become unresponsive.\n",
    "\n",
    "__Race conditions:__\n",
    "A race condition occurs when the behavior of a program depends on the order in which two or more threads execute. In other words, the result of the program depends on the relative timing of the threads. Race conditions can occur when multiple threads access shared resources without proper synchronization. For example, if two threads access a shared variable simultaneously, the result may depend on which thread executes first. Race conditions can cause unpredictable behavior, including incorrect results or program crashes."
   ]
  },
  {
   "cell_type": "code",
   "execution_count": null,
   "id": "e7d03fd3-2495-4fc1-bf7f-9859585049bc",
   "metadata": {},
   "outputs": [
    {
     "name": "stdout",
     "output_type": "stream",
     "text": [
      "Function 1 acquired lock A\n",
      "Function 2 acquired lock B\n"
     ]
    }
   ],
   "source": [
    "import threading\n",
    "\n",
    "lock_a = threading.Lock()\n",
    "lock_b = threading.Lock()\n",
    "\n",
    "def function_1():\n",
    "    lock_a.acquire()\n",
    "    print(\"Function 1 acquired lock A\")\n",
    "    time.sleep(1)\n",
    "    lock_b.acquire()\n",
    "    print(\"Function 1 acquired lock B\")\n",
    "    lock_b.release()\n",
    "    lock_a.release()\n",
    "\n",
    "def function_2():\n",
    "    lock_b.acquire()\n",
    "    print(\"Function 2 acquired lock B\")\n",
    "    time.sleep(1)\n",
    "    lock_a.acquire()\n",
    "    print(\"Function 2 acquired lock A\")\n",
    "    lock_a.release()\n",
    "    lock_b.release()\n",
    "\n",
    "thread_1 = threading.Thread(target=function_1)\n",
    "thread_2 = threading.Thread(target=function_2)\n",
    "thread_1.start()\n",
    "thread_2.start()"
   ]
  },
  {
   "cell_type": "markdown",
   "id": "4d2c48e5-3024-4961-8984-1abf14dee465",
   "metadata": {},
   "source": [
    "Here we can observe that initially function_1 is trying has acquired lock_a and function_2 has acquired lock_b and later both functions are trying to acquire others which are already acquired. Therefore, function is not executed completed."
   ]
  },
  {
   "cell_type": "code",
   "execution_count": 7,
   "id": "680cb1da-4577-4c60-b678-dfaecaf637ff",
   "metadata": {},
   "outputs": [
    {
     "name": "stdout",
     "output_type": "stream",
     "text": [
      "Function 1 acquired Semaphore A\n",
      "Function 1 acquired Semaphore B\n",
      "Function 2 acquired Semaphore B\n",
      "Function 2 acquired Semaphore A\n"
     ]
    }
   ],
   "source": [
    "import threading, time\n",
    "\n",
    "semaphore_a = threading.Semaphore(1)\n",
    "semaphore_b = threading.Semaphore(1)\n",
    "\n",
    "def function_1():\n",
    "    semaphore_a.acquire()\n",
    "    print(\"Function 1 acquired Semaphore A\")\n",
    "    time.sleep(1)\n",
    "    semaphore_b.acquire()\n",
    "    print(\"Function 1 acquired Semaphore B\")\n",
    "    semaphore_a.release()\n",
    "    semaphore_b.release()\n",
    "\n",
    "def function_2():\n",
    "    semaphore_a.acquire()\n",
    "    print(\"Function 2 acquired Semaphore B\")\n",
    "    time.sleep(1)\n",
    "    semaphore_b.acquire()\n",
    "    print(\"Function 2 acquired Semaphore A\")\n",
    "    semaphore_a.release()\n",
    "    semaphore_b.release()\n",
    "\n",
    "thread_1 = threading.Thread(target=function_1)\n",
    "thread_2 = threading.Thread(target=function_2)\n",
    "thread_1.start()\n",
    "thread_2.start()"
   ]
  },
  {
   "cell_type": "markdown",
   "id": "80f68b5c-6152-45f8-ae85-04e88b1d0fa1",
   "metadata": {},
   "source": [
    "***\n",
    "<br>"
   ]
  }
 ],
 "metadata": {
  "kernelspec": {
   "display_name": "Python 3 (ipykernel)",
   "language": "python",
   "name": "python3"
  },
  "language_info": {
   "codemirror_mode": {
    "name": "ipython",
    "version": 3
   },
   "file_extension": ".py",
   "mimetype": "text/x-python",
   "name": "python",
   "nbconvert_exporter": "python",
   "pygments_lexer": "ipython3",
   "version": "3.10.6"
  }
 },
 "nbformat": 4,
 "nbformat_minor": 5
}
