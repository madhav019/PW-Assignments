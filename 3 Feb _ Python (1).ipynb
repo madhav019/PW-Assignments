{
 "cells": [
  {
   "cell_type": "markdown",
   "id": "14cd97d1-249a-4fb4-a6c5-cbe1b32e5587",
   "metadata": {},
   "source": [
    "#### 1. Which keyword is used to create a function? Create a function to return a list of odd numbers in the range of 1 to 25."
   ]
  },
  {
   "cell_type": "markdown",
   "id": "2ec4b01f-b27a-428f-a00e-1e4b329f2086",
   "metadata": {},
   "source": [
    "<code>**def**</code> keyword is used to define a function."
   ]
  },
  {
   "cell_type": "code",
   "execution_count": 83,
   "id": "23667847-c862-4ce2-ae3a-e0781266225b",
   "metadata": {},
   "outputs": [
    {
     "data": {
      "text/plain": [
       "[1, 3, 5, 7, 9, 11, 13, 15, 17, 19, 21, 23, 25]"
      ]
     },
     "execution_count": 83,
     "metadata": {},
     "output_type": "execute_result"
    }
   ],
   "source": [
    "def func():\n",
    "    return list(range(1, 26, 2))\n",
    "\n",
    "func()"
   ]
  },
  {
   "cell_type": "markdown",
   "id": "f0113e16-0e80-409a-89d6-1a65290c37c2",
   "metadata": {},
   "source": [
    "***\n",
    "<br>"
   ]
  },
  {
   "cell_type": "markdown",
   "id": "49ca0321-354b-429e-a9b8-06e46d33072f",
   "metadata": {},
   "source": [
    "#### 2. Why *args and **kwargs is used in some functions? Create a function each for *args and **kwargs to demonstrate their use."
   ]
  },
  {
   "cell_type": "markdown",
   "id": "d42908f9-e8ac-460a-b27f-c773803f1d98",
   "metadata": {},
   "source": [
    "<code>\\***args**</code> allows us to pass a variable number of non-keyword arguments to a Python function. In the function, we should use an asterisk (\\*) before the parameter name to pass a variable number of arguments."
   ]
  },
  {
   "cell_type": "code",
   "execution_count": 84,
   "id": "0580b2f0-b770-4d50-ba3c-c0d2413a4f05",
   "metadata": {},
   "outputs": [
    {
     "name": "stdout",
     "output_type": "stream",
     "text": [
      "(1, 2, 3)\n"
     ]
    }
   ],
   "source": [
    "def func(*args):\n",
    "    print(args)\n",
    "    \n",
    "func(1, 2, 3)"
   ]
  },
  {
   "cell_type": "markdown",
   "id": "d5c57a1f-b047-4cd8-a0e4-ab8393003e25",
   "metadata": {},
   "source": [
    "<code>\\*\\***kwargs**</code> allows us to pass a variable number of keyword arguments to a Python function. In the function, we use the double-asterisk (\\*\\*) before the parameter name to denote this type of argument."
   ]
  },
  {
   "cell_type": "code",
   "execution_count": 85,
   "id": "78b0e1b7-c1c0-45e2-af84-3e0fd48c86a4",
   "metadata": {},
   "outputs": [
    {
     "name": "stdout",
     "output_type": "stream",
     "text": [
      "{'b': 1, 'a': 2, 'c': 3}\n"
     ]
    }
   ],
   "source": [
    "def func(**kwargs):\n",
    "    print(kwargs)\n",
    "    \n",
    "func(b=1, a=2, c=3)"
   ]
  },
  {
   "cell_type": "markdown",
   "id": "136d158f-534f-4a6e-a8fa-c3bc5a7db062",
   "metadata": {},
   "source": [
    "***\n",
    "<br>"
   ]
  },
  {
   "cell_type": "markdown",
   "id": "23464b46-3399-4b72-be3b-cc37907957fa",
   "metadata": {},
   "source": [
    "#### 3. What is an iterator in python? Name the method used to initialise the iterator object and the method used for iteration. Use these methods to print the first five elements of the given list <code>[2, 4, 6, 8, 10, 12, 14, 16, 18, 20]</code>."
   ]
  },
  {
   "cell_type": "markdown",
   "id": "3256fb2b-ff5f-4dbd-b155-f23c24dce860",
   "metadata": {},
   "source": [
    "Iterators are methods that iterate collections like lists, tuples, etc. Using an iterator method, we can loop through an object and return its elements.\n",
    "\n",
    "Technically, a Python iterator object must implement two special methods, **\\_\\_iter\\_\\_()** and **\\_\\_next\\_\\_()**, collectively called the iterator protocol.\n",
    "\n",
    "<code>**iter()**</code> method is used to initialise the interator object and <code>**next()**</code> is used for iteration."
   ]
  },
  {
   "cell_type": "code",
   "execution_count": 86,
   "id": "a72127c8-c731-404b-bcce-efaa8fd990ad",
   "metadata": {},
   "outputs": [
    {
     "name": "stdout",
     "output_type": "stream",
     "text": [
      "2 4 6 8 10 "
     ]
    }
   ],
   "source": [
    "firstFive = iter([2, 4, 6, 8, 10, 12, 14, 16, 18, 20])\n",
    "count = 5\n",
    "\n",
    "while count > 0:\n",
    "    print(next(firstFive), end=\" \")\n",
    "    count -= 1"
   ]
  },
  {
   "cell_type": "markdown",
   "id": "71a78474-49f2-47e9-87e1-5a7d7d1aef16",
   "metadata": {},
   "source": [
    "***\n",
    "<br>"
   ]
  },
  {
   "cell_type": "markdown",
   "id": "113da4d4-9f4e-41a3-8c23-89652fec1e12",
   "metadata": {},
   "source": [
    "#### 4. What is a generator function in python? Why yield keyword is used? Give an example of a generator function."
   ]
  },
  {
   "cell_type": "markdown",
   "id": "8c7e2720-5d20-4c02-855b-8b9327e8f949",
   "metadata": {},
   "source": [
    "In Python, a generator is a function that returns an iterator that produces a sequence of values when iterated over. Generators are useful when we want to produce a large sequence of values, but we don't want to store all of them in memory at once.<br><br>\n",
    "The <code>**yield**</code> keyword is used to produce a value from the generator."
   ]
  },
  {
   "cell_type": "code",
   "execution_count": 87,
   "id": "a8ebe6b8-4c8a-4dd6-922f-3817b25c93ea",
   "metadata": {},
   "outputs": [],
   "source": [
    " def Fibonacci():\n",
    "        a = 0\n",
    "        b = 1\n",
    "        \n",
    "        yield a\n",
    "        yield b\n",
    "        \n",
    "        while True:\n",
    "            yield a + b\n",
    "            a, b = b, a + b"
   ]
  },
  {
   "cell_type": "code",
   "execution_count": 88,
   "id": "2e53197b-60b3-4834-8f16-53963e91c453",
   "metadata": {},
   "outputs": [
    {
     "name": "stdout",
     "output_type": "stream",
     "text": [
      "0 1 1 2 3 5 "
     ]
    }
   ],
   "source": [
    "fib_series = Fibonacci()\n",
    "for i in range(6):\n",
    "    print(next(fib_series), end = \" \")"
   ]
  },
  {
   "cell_type": "markdown",
   "id": "61082855-2c79-47dd-bc1a-ef6ff333db03",
   "metadata": {},
   "source": [
    "***\n",
    "<br>"
   ]
  },
  {
   "cell_type": "markdown",
   "id": "9fe3ed5c-77c6-46fd-bbe5-339096246a5e",
   "metadata": {},
   "source": [
    "#### 5. Create a generator function for prime numbers less than 1000. Use the next() method to print the first 20 prime numbers."
   ]
  },
  {
   "cell_type": "code",
   "execution_count": 89,
   "id": "06a6d583-8764-4784-a6b2-e7be022f52f5",
   "metadata": {},
   "outputs": [],
   "source": [
    "def prime_sieve(n):\n",
    "    arr = [True] * (n+1)\n",
    "    \n",
    "    for i in range(2, n+1):\n",
    "        if arr[2]:\n",
    "            for j in range(i*i, n+1, i):\n",
    "                arr[j] = False\n",
    "    \n",
    "    return arr"
   ]
  },
  {
   "cell_type": "code",
   "execution_count": 90,
   "id": "985993be-4171-4272-851c-b33ffc5994a9",
   "metadata": {},
   "outputs": [],
   "source": [
    "def prime_numbers(n):\n",
    "    primeSeive = prime_sieve(n)\n",
    "    \n",
    "    i = 2\n",
    "    \n",
    "    while True:\n",
    "        if primeSeive[i]:\n",
    "            yield i\n",
    "        i += 1"
   ]
  },
  {
   "cell_type": "code",
   "execution_count": 91,
   "id": "001a9938-ed03-471c-9659-0581c9bdd9fc",
   "metadata": {},
   "outputs": [
    {
     "name": "stdout",
     "output_type": "stream",
     "text": [
      "2 3 5 7 11 13 17 19 23 29 31 37 41 43 47 53 59 61 67 71 "
     ]
    }
   ],
   "source": [
    "primeNumbers = prime_numbers(1000)\n",
    "\n",
    "for i in range(20):\n",
    "    print(next(primeNumbers), end = \" \")"
   ]
  },
  {
   "cell_type": "markdown",
   "id": "0c81e560-23a1-449b-bc1d-ff8e89a7cdd2",
   "metadata": {},
   "source": [
    "***\n",
    "<br>"
   ]
  },
  {
   "cell_type": "markdown",
   "id": "c851ad63-50e7-4cba-9362-644ac63e3065",
   "metadata": {},
   "source": [
    "#### 6. Write a python program to print the first 10 Fibonacci numbers using a while loop.\n",
    "\n"
   ]
  },
  {
   "cell_type": "code",
   "execution_count": 92,
   "id": "58c507b1-068c-4336-9327-5fad570e7907",
   "metadata": {},
   "outputs": [
    {
     "name": "stdout",
     "output_type": "stream",
     "text": [
      "0 1 1 2 3 5 8 13 21 34 55 89 144 233 377 610 987 1597 2584 4181 "
     ]
    }
   ],
   "source": [
    "a, b = 0, 1\n",
    "print(a, end = \" \")\n",
    "print(b, end = \" \")\n",
    "\n",
    "for i in range(2, 20):\n",
    "    print(a + b, end = \" \")\n",
    "    a, b = b, a + b"
   ]
  },
  {
   "cell_type": "markdown",
   "id": "846c1543-8e7e-4184-9979-eb2a284227ef",
   "metadata": {},
   "source": [
    "***\n",
    "<br>"
   ]
  },
  {
   "cell_type": "markdown",
   "id": "5ef4dfa5-b814-463d-a5ce-a36e69d18888",
   "metadata": {},
   "source": [
    "#### 7. Write a List Comprehension to iterate through the given string: \"pwskills\".\n",
    "Expected output: ['p', 'w', 's', 'k', 'i', 'l', 'l', 's']\n",
    "\n"
   ]
  },
  {
   "cell_type": "code",
   "execution_count": 97,
   "id": "fdc49d38-145b-4e39-92ed-a7ee17847067",
   "metadata": {},
   "outputs": [
    {
     "data": {
      "text/plain": [
       "['p', 'w', 's', 'k', 'i', 'l', 'l', 's']"
      ]
     },
     "execution_count": 97,
     "metadata": {},
     "output_type": "execute_result"
    }
   ],
   "source": [
    "[i for i in \"pwskills\"]"
   ]
  },
  {
   "cell_type": "markdown",
   "id": "9b315690-3086-41d1-8bb4-4ed5d231e018",
   "metadata": {},
   "source": [
    "***\n",
    "<br>"
   ]
  },
  {
   "cell_type": "markdown",
   "id": "6d7d4b49-a739-45d8-81ad-e439a34d35aa",
   "metadata": {},
   "source": [
    "#### 8. Write a python program to check whether a given number is Palindrome or not using a while loop. "
   ]
  },
  {
   "cell_type": "code",
   "execution_count": 94,
   "id": "ad6e61e3-6a7c-4195-8a4b-65867b1939b7",
   "metadata": {},
   "outputs": [],
   "source": [
    "def isPalindrome(string):\n",
    "    i = 0\n",
    "    j = len(string) - 1\n",
    "    \n",
    "    while i < j:\n",
    "        if string[i] != string[j]:\n",
    "            return False\n",
    "        i += 1\n",
    "        j -= 1\n",
    "        \n",
    "    return True"
   ]
  },
  {
   "cell_type": "code",
   "execution_count": 95,
   "id": "04a31418-a011-4c2d-96df-66f9b99fa2f1",
   "metadata": {},
   "outputs": [
    {
     "data": {
      "text/plain": [
       "True"
      ]
     },
     "execution_count": 95,
     "metadata": {},
     "output_type": "execute_result"
    }
   ],
   "source": [
    "isPalindrome(\"issi\")"
   ]
  },
  {
   "cell_type": "markdown",
   "id": "d554cd6a-c67c-44c9-9864-dc1c4b95c946",
   "metadata": {},
   "source": [
    "***\n",
    "<br>"
   ]
  },
  {
   "cell_type": "markdown",
   "id": "c0ddbd7d-336c-4209-864a-962dababcab6",
   "metadata": {},
   "source": [
    "#### 9. Write a code to print odd numbers from 1 to 100 using list comprehension. <br><br>___Note__: Use a list comprehension to create a list from 1 to 100 and use another List comprehension to filter out odd numbers_"
   ]
  },
  {
   "cell_type": "code",
   "execution_count": 96,
   "id": "77090407-216f-4de0-8972-f17afc3d80f1",
   "metadata": {},
   "outputs": [
    {
     "name": "stdout",
     "output_type": "stream",
     "text": [
      "1 3 5 7 9 11 13 15 17 19 21 23 25 27 29 31 33 35 37 39 41 43 45 47 49 51 53 55 57 59 61 63 65 67 69 71 73 75 77 79 81 83 85 87 89 91 93 95 97 99 "
     ]
    }
   ],
   "source": [
    "odd_numbers = [i for i in range(1, 100, 2)]\n",
    "for i in odd_numbers:\n",
    "    print(i, end = \" \")"
   ]
  },
  {
   "cell_type": "markdown",
   "id": "2868bcc7-0865-4532-bef6-aa88beeacd4f",
   "metadata": {},
   "source": [
    "***\n",
    "<br>"
   ]
  }
 ],
 "metadata": {
  "kernelspec": {
   "display_name": "Python 3 (ipykernel)",
   "language": "python",
   "name": "python3"
  },
  "language_info": {
   "codemirror_mode": {
    "name": "ipython",
    "version": 3
   },
   "file_extension": ".py",
   "mimetype": "text/x-python",
   "name": "python",
   "nbconvert_exporter": "python",
   "pygments_lexer": "ipython3",
   "version": "3.10.6"
  }
 },
 "nbformat": 4,
 "nbformat_minor": 5
}
