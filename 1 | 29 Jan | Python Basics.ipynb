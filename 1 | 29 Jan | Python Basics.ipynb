{
 "cells": [
  {
   "cell_type": "markdown",
   "id": "f39d5c66-e757-41e9-ab8e-9407b2085413",
   "metadata": {},
   "source": [
    "### 1. Who developed Python Programming Language?"
   ]
  },
  {
   "cell_type": "markdown",
   "id": "dc6785d8-613a-4d0a-afba-19acca937f61",
   "metadata": {},
   "source": [
    "Python Programming was developed by _**Guido van Rossum**_ in the year February 20, 1991 *(first release)*.\n",
    "***\n",
    "<br>"
   ]
  },
  {
   "cell_type": "markdown",
   "id": "88f9561a-ad01-4468-b3ba-c0b9d0e4c90a",
   "metadata": {},
   "source": [
    "### 2. Which types of Programming does Python supports?"
   ]
  },
  {
   "cell_type": "markdown",
   "id": "db5527d9-d17e-484b-97e5-5a6e3ac3c6ce",
   "metadata": {},
   "source": [
    "Python is an interpreted programming language, It supports multiple programming paradigms such as : \n",
    "* object-oriented programming\n",
    "* structured programming\n",
    "* functional programming\n",
    "***\n",
    "<br>"
   ]
  },
  {
   "cell_type": "markdown",
   "id": "73b39d2f-f3c0-433b-ae7a-0cfd17bb7222",
   "metadata": {},
   "source": [
    "### 3. Is python case sensitive when dealing with identifiers?"
   ]
  },
  {
   "cell_type": "markdown",
   "id": "3fc61f02-f4be-4eef-984c-7f1a56642085",
   "metadata": {},
   "source": [
    "Yes, Python is a case-sensitive language\n",
    "***\n",
    "<br>"
   ]
  },
  {
   "cell_type": "markdown",
   "id": "0b6c7caf-66eb-4ab8-8f0a-abaab6477bec",
   "metadata": {},
   "source": [
    "### 4. What is the correct extension for the Python file?"
   ]
  },
  {
   "cell_type": "markdown",
   "id": "b9422867-4e1d-4959-9bbc-cf98f45f7054",
   "metadata": {},
   "source": [
    "The correct extension for the python file is **.py**\n",
    "***\n",
    "<br>"
   ]
  },
  {
   "cell_type": "markdown",
   "id": "e575b881-0804-4c42-8547-fe2d7cbe6794",
   "metadata": {},
   "source": [
    "### 5. Is Python code compiled or interpreted?"
   ]
  },
  {
   "cell_type": "markdown",
   "id": "04c89038-890c-430d-b5b4-d01617cb3a61",
   "metadata": {},
   "source": [
    "Python is both compiled and interpreted language.\n",
    "***\n",
    "<br>"
   ]
  },
  {
   "cell_type": "markdown",
   "id": "196cb1cd-fa92-4599-bcdc-f3784d71dc7a",
   "metadata": {},
   "source": [
    "### 6. Name a few blocks of code used to define in Python language?"
   ]
  },
  {
   "cell_type": "markdown",
   "id": "cb8752ef-c1e3-4519-aa3d-b4954aa4a2ae",
   "metadata": {},
   "source": [
    "In Python, a block of code is implemented using indentation.<br>\n",
    "For Example\n",
    "\n",
    "<code>if(a > b):\n",
    "    print(\"a is greater\")\n",
    "else:\n",
    "    print(\"b is greater\")</code>\n",
    "    \n",
    "In the above example we can observe some space after **if** and **else** statements which defines the blocks of respective statements. Each block will execute based upon the conditions.\n",
    "***\n",
    "<br>"
   ]
  },
  {
   "cell_type": "markdown",
   "id": "adb4ee11-bd70-46b1-9243-4901ce54b580",
   "metadata": {},
   "source": [
    "### 7. State a character used to give single-line comments in python?"
   ]
  },
  {
   "cell_type": "markdown",
   "id": "78b21f8c-0a06-4954-91f5-566c518f0f47",
   "metadata": {},
   "source": [
    "In python single line comments are given by symbol **\"#\"**\n",
    "***\n",
    "<br>"
   ]
  },
  {
   "cell_type": "markdown",
   "id": "d4214650-91ef-4e60-92ad-ea7e8a28c1ad",
   "metadata": {},
   "source": [
    "### 8. Mention functions which can help us to find the version of python that we are currently working on?"
   ]
  },
  {
   "cell_type": "markdown",
   "id": "c2c7e570-833f-4aac-8f0b-1df82a783e41",
   "metadata": {},
   "source": [
    "We can use <code>**sys.version**</code> to fetch current python version."
   ]
  },
  {
   "cell_type": "code",
   "execution_count": 35,
   "id": "3c10b049-3762-4e90-b598-34959c165a30",
   "metadata": {},
   "outputs": [
    {
     "data": {
      "text/plain": [
       "'3.10.6 '"
      ]
     },
     "execution_count": 35,
     "metadata": {},
     "output_type": "execute_result"
    }
   ],
   "source": [
    "import sys\n",
    "sys.version.split('|')[0]"
   ]
  },
  {
   "cell_type": "markdown",
   "id": "81a74b35-ef2c-44b5-b0ea-8c1adb543a17",
   "metadata": {},
   "source": [
    "***\n",
    "<br>"
   ]
  },
  {
   "cell_type": "markdown",
   "id": "58d33cc8-9b45-49c3-b45c-d17ae94ff142",
   "metadata": {},
   "source": [
    "### 9. Python supports the creation of anonymous functions at runtime, using a construct called?"
   ]
  },
  {
   "cell_type": "markdown",
   "id": "8eb24445-fd64-4b73-974e-c5556220a24b",
   "metadata": {},
   "source": [
    "Python supports the creation of anonymous functions at runtime, using a construct called <code>**lambda**</code>. Lambda functions are restricted to a single expression. They can be used wherever normal functions can be used."
   ]
  },
  {
   "cell_type": "code",
   "execution_count": 37,
   "id": "2ab8400e-f33c-4c6a-983a-bb6670d15c5d",
   "metadata": {},
   "outputs": [
    {
     "data": {
      "text/plain": [
       "25"
      ]
     },
     "execution_count": 37,
     "metadata": {},
     "output_type": "execute_result"
    }
   ],
   "source": [
    "a = 5\n",
    "square = lambda x : x**2\n",
    "square(a)"
   ]
  },
  {
   "cell_type": "markdown",
   "id": "8814646e-d107-43ad-855b-da470b44e899",
   "metadata": {},
   "source": [
    "In the above snippet we have declared square as a lambda expression that can be treated as a function which basically squares up the given number.\n",
    "***\n",
    "<br>"
   ]
  },
  {
   "cell_type": "markdown",
   "id": "3c2465de-461e-4440-baa6-37244f9ad67a",
   "metadata": {},
   "source": [
    "### 10. What does pip stand for python?"
   ]
  },
  {
   "cell_type": "markdown",
   "id": "968d44de-758b-4279-8108-799114b0688d",
   "metadata": {},
   "source": [
    "pip stands for **\"preferred installer program\"**. It is a package-management system written in Python and is used to install and manage software packages.\n",
    "***\n",
    "<br>"
   ]
  },
  {
   "cell_type": "markdown",
   "id": "1a3920ca-f653-49d4-956b-c55b36908975",
   "metadata": {},
   "source": [
    "### 11. Mention a few built-in functions in Python."
   ]
  },
  {
   "cell_type": "code",
   "execution_count": 43,
   "id": "0ce67725-f6cb-4617-99fb-3d97db474c9d",
   "metadata": {},
   "outputs": [],
   "source": [
    "a = [3, 2, 1]"
   ]
  },
  {
   "cell_type": "code",
   "execution_count": 44,
   "id": "2875732e-a1e0-460f-bab7-27c799ca728e",
   "metadata": {},
   "outputs": [
    {
     "data": {
      "text/plain": [
       "3"
      ]
     },
     "execution_count": 44,
     "metadata": {},
     "output_type": "execute_result"
    }
   ],
   "source": [
    "len(a)"
   ]
  },
  {
   "cell_type": "code",
   "execution_count": 45,
   "id": "81ab864f-3f72-48ec-adf2-8a7a49d5dc05",
   "metadata": {},
   "outputs": [
    {
     "data": {
      "text/plain": [
       "list"
      ]
     },
     "execution_count": 45,
     "metadata": {},
     "output_type": "execute_result"
    }
   ],
   "source": [
    "type(a)"
   ]
  },
  {
   "cell_type": "code",
   "execution_count": 50,
   "id": "f41137ad-5db6-45c3-80d8-1880e063a511",
   "metadata": {},
   "outputs": [
    {
     "data": {
      "text/plain": [
       "3"
      ]
     },
     "execution_count": 50,
     "metadata": {},
     "output_type": "execute_result"
    }
   ],
   "source": [
    "max(a)"
   ]
  },
  {
   "cell_type": "code",
   "execution_count": 51,
   "id": "5d46064b-3774-41a2-ac25-adc1c949aa80",
   "metadata": {},
   "outputs": [
    {
     "data": {
      "text/plain": [
       "[1, 2, 3]"
      ]
     },
     "execution_count": 51,
     "metadata": {},
     "output_type": "execute_result"
    }
   ],
   "source": [
    "sorted(a)"
   ]
  },
  {
   "cell_type": "code",
   "execution_count": 48,
   "id": "6c3b489b-9bc4-416f-832c-955a7dedd60e",
   "metadata": {},
   "outputs": [
    {
     "data": {
      "text/plain": [
       "6"
      ]
     },
     "execution_count": 48,
     "metadata": {},
     "output_type": "execute_result"
    }
   ],
   "source": [
    "sum(a)"
   ]
  },
  {
   "cell_type": "markdown",
   "id": "129d2c35-820f-42f7-89a6-bd3a19387fff",
   "metadata": {},
   "source": [
    "Above are some examples of the built-in functions provided with the Python language.\n",
    "***\n",
    "<br>"
   ]
  },
  {
   "cell_type": "markdown",
   "id": "472befea-4464-4bc5-97a9-61a058e716ce",
   "metadata": {},
   "source": [
    "### 12. What is the maximum possible length of a python identifier?"
   ]
  },
  {
   "cell_type": "markdown",
   "id": "031547c0-409b-49ad-b2ea-69a36830d7a9",
   "metadata": {},
   "source": [
    "An identifier can have a maximum length of **79 characters** in Python.\n",
    "***\n",
    "<br>"
   ]
  },
  {
   "cell_type": "markdown",
   "id": "922e58ad-952a-4682-9323-b9c74af6a2ee",
   "metadata": {},
   "source": [
    "### 13. What are the benefits of using Python?"
   ]
  },
  {
   "cell_type": "markdown",
   "id": "d43e7834-d614-431c-a03b-eb9a1f6e20ab",
   "metadata": {},
   "source": [
    "Some benefits of Python are: \n",
    "* Dynamically Typed\n",
    "* Extensive support libraries\n",
    "* Portable across Operating systems \n",
    "* Object-Oriented and Procedural  Programming language\n",
    "* Versatile, Easy to read, learn and write\n",
    "***\n",
    "<br>"
   ]
  },
  {
   "cell_type": "markdown",
   "id": "f4d9d9fb-2417-47a9-a5cd-b17a3b05d30b",
   "metadata": {},
   "source": [
    "### 14. How is memory managed in Python?"
   ]
  },
  {
   "cell_type": "markdown",
   "id": "b0967fac-2864-40f6-8257-488b33a7d4cc",
   "metadata": {},
   "source": [
    "Python Memory Manager is responsible to manage memory allocation and deallocation to various processes that are under execution in python.<br>\n",
    "Every python process has two types of memory allocated to it\n",
    "* Static Memory\n",
    "* Dynamic Memory\n",
    "\n",
    "#### <br>**Static Memory Allocation** : \n",
    "Whenever a variable is declared as well as initialized it is stored in the memory called **stack**, and do not change during runtime. This stack memory contains all the initialized global variabls or any variable in the form of function blocks.\n",
    "\n",
    "<code>a = 1\n",
    "b = []\n",
    "c = \"abc\"\n",
    "</code>\n",
    "\n",
    "#### <br>**Dynamic Memory Allocation** : \n",
    "This memory can be dynamically allocated or deallocated at the runtime. The memory size required for such variables cannot be determined beforehand, and hence it is called dynamic memory.\n",
    "\n",
    "<code>number = int(input(\"Enter a number\"))\n",
    "array = [0] * number</code>\n",
    "\n",
    "In the above example the variable number will be assigned value privided by the user during the runtime. So at the time of compilation we don't about the exact memory this variable be using so it is allocated memory during runtime and stored in **heap memory**.\n",
    "<br><br>\n",
    "\n",
    "### **The Global Interpreter Lock (GIL)**\n",
    "The python interpreter has a multi-threaded model. It means that there can be more than one function executing parallel with each other. This brings into attention one of the biggest problem in computation, the concurrency. If two functions access same memory part then they might fall into the condition where they both try to modify that space according to there needs and the en result could be some unpredictible value. This condition is called **race-around** condition. To get around this problem of concurrency the python interpreter uses a concept called Global Interpreter Lock. The GIL locks the interpreter for one thread accessing a critical part of memory, while the lock is acquired no other thread can access the interpreter let alone perform any memory operations.\n",
    "\n",
    "***\n",
    "<br>"
   ]
  },
  {
   "cell_type": "markdown",
   "id": "09036552-1d68-4f9a-bd44-cf074d47ae25",
   "metadata": {},
   "source": [
    "### 15. How is install Python on Windows and set path variables?"
   ]
  },
  {
   "cell_type": "markdown",
   "id": "44fbf60b-e966-4ddd-9454-13148cdf8757",
   "metadata": {},
   "source": [
    "\n",
    "#### **Download the Python Installer binaries**\n",
    "1. Open the official Python website in your web browser. Navigate to the Downloads tab for Windows.\n",
    "2. Choose the latest Python 3 release. In our example, we choose the latest Python 3.7.3 version.\n",
    "3. Click on the link to download Windows x86 executable installer if you are using a 32-bit installer. In case your Windows installation is a 64-bit system, then download Windows x86-64 executable installer.\n",
    "\n",
    "#### **Run the Executable Installer**\n",
    "1. Once the installer is downloaded, run the Python installer.\n",
    "2. Check the Install launcher for all users check box. Further, you may check the Add Python 3.7 to path check box to include the interpreter in the execution path.\n",
    "3. Click Install to start installation.\n",
    "\n",
    "#### **Add Python to environmental variables**\n",
    "The last (optional) step in the installation process is to add Python Path to the System Environment variables. This step is done to access Python through the command line. In case you have added Python to environment variables while setting the Advanced options during the installation procedure, you can avoid this step. Else, this step is done manually as follows. In the Start menu, search for “advanced system settings”. Select “View advanced system settings”. In the “System Properties” window, click on the “Advanced” tab and then click on the “Environment Variables” button. Locate the Python installation directory on your system. If you followed the steps exactly as above, python will be installed in below locations:\n",
    "* C:\\Program Files (x86)\\Python37-32: for 32-bit installation\n",
    "* C:\\Program Files\\Python37-32: for 64-bit installation\n",
    "\n",
    "#### **Verify the Python Installation**\n",
    "You have now successfully installed Python 3.7.3 on Windows 10. You can verify if the Python installation is successful either through the command line or through the IDLE app that gets installed along with the installation. Search for the command prompt and type “python”. You can see that Python 3.7.3 is successfully installed.\n",
    "***\n",
    "<br>"
   ]
  },
  {
   "cell_type": "markdown",
   "id": "337aaa84-eda8-4a92-8b4a-50817decf3ab",
   "metadata": {},
   "source": [
    "### 16. Is indentation required in python?"
   ]
  },
  {
   "cell_type": "markdown",
   "id": "21fa6e18-7bf2-4084-aa66-7a5bcc8a0ef8",
   "metadata": {},
   "source": [
    "Indentation is necessary for Python. It specifies a block of code. All code within loops, classes, functions, etc., is defined within an indented block. It is usually done using four space characters. If your code is not indented necessarily, it will not execute accurately and will throw errors.\n",
    "***"
   ]
  }
 ],
 "metadata": {
  "kernelspec": {
   "display_name": "Python 3 (ipykernel)",
   "language": "python",
   "name": "python3"
  },
  "language_info": {
   "codemirror_mode": {
    "name": "ipython",
    "version": 3
   },
   "file_extension": ".py",
   "mimetype": "text/x-python",
   "name": "python",
   "nbconvert_exporter": "python",
   "pygments_lexer": "ipython3",
   "version": "3.10.6"
  }
 },
 "nbformat": 4,
 "nbformat_minor": 5
}
