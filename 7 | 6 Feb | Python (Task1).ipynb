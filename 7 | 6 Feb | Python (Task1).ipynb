{
 "cells": [
  {
   "cell_type": "markdown",
   "id": "9fc25a27-d1d6-4f8f-83bc-37b86af815e5",
   "metadata": {},
   "source": [
    "#### 1. Create a function which will take a list as an argument and return the product of all the numbers after creating a flat list. \n",
    "Use the below-given list as an argument for your function.\n",
    "\n",
    "<code>list1 = [1,2,3,4, [44,55,66, True], False, (34,58,78,89,34), {1,2,3,3,2,1}, {1:34,\"key2\": [55, 67, 78, 89], 4: (45, 22, 61, 34)}, [56, 'data science'], 'Machine Learning']</code>\n",
    "\n",
    "__Note__: you must extract numeric keys and values of the dictionary also."
   ]
  },
  {
   "cell_type": "code",
   "execution_count": 71,
   "id": "8dc4184d-7e08-477e-bde5-b7678d49ac67",
   "metadata": {},
   "outputs": [],
   "source": [
    "list1 = [1,2,3,4, [44,55,66, True], False, (34,56,78,89,34), {1,2,3,3,2,1}, {1:34, \"key2\": [55, 67, 78, 89], 4: (45, 22, 61, 34)}, [56, 'data science'], 'Machine Learning']"
   ]
  },
  {
   "cell_type": "code",
   "execution_count": 72,
   "id": "efa1954b-b246-4956-a399-40a2035c0c49",
   "metadata": {},
   "outputs": [
    {
     "data": {
      "text/plain": [
       "4134711838987085478833841242112000"
      ]
     },
     "execution_count": 72,
     "metadata": {},
     "output_type": "execute_result"
    }
   ],
   "source": [
    "from functools import reduce\n",
    "\n",
    "def function(arr):\n",
    "    \n",
    "    temp = []\n",
    "    \n",
    "    for ele in arr:\n",
    "        \n",
    "        if type(ele) == int:\n",
    "            temp.append(ele)\n",
    "        \n",
    "        if type(ele) in [list, tuple, set]:\n",
    "            for e in ele:\n",
    "                if type(e) == int:\n",
    "                    temp.append(e)\n",
    "        \n",
    "        if type(ele) == dict:\n",
    "            for key, value in ele.items():\n",
    "                if type(key) == int:\n",
    "                    temp.append(key)\n",
    "            \n",
    "                if type(value) == int:\n",
    "                    temp.append(value)\n",
    "                elif type(value) in [list, tuple]:\n",
    "                    for e in value:\n",
    "                        if type(e) == int:\n",
    "                            temp.append(e)\n",
    "              \n",
    "    return reduce(lambda x, y : x*y, temp)\n",
    "\n",
    "function(list1)"
   ]
  },
  {
   "cell_type": "code",
   "execution_count": 69,
   "id": "5c4a228e-340b-40ce-8877-47b72e131099",
   "metadata": {},
   "outputs": [
    {
     "data": {
      "text/plain": [
       "4134711838987085478833841242112000"
      ]
     },
     "execution_count": 69,
     "metadata": {},
     "output_type": "execute_result"
    }
   ],
   "source": [
    "# from functools import reduce\n",
    "\n",
    "# def function(arr):\n",
    "#     ans = 1\n",
    "    \n",
    "#     for ele in arr:\n",
    "        \n",
    "#         if type(ele) == int:\n",
    "#             ans *= ele\n",
    "        \n",
    "#         elif type(ele) in [list, tuple, set]:\n",
    "#             ans *= function(ele)\n",
    "        \n",
    "#         elif type(ele) == dict:\n",
    "#             ans *= function(list(ele.keys())) * function(list(ele.values()))\n",
    "            \n",
    "#     return ans\n",
    "\n",
    "            \n",
    "# function(list1)"
   ]
  },
  {
   "cell_type": "markdown",
   "id": "fb167438-23e8-4b40-9ae8-edf16994c0b1",
   "metadata": {},
   "source": [
    "***\n",
    "<br>"
   ]
  },
  {
   "cell_type": "markdown",
   "id": "76ce0bbe-aa71-4003-a920-8cf7fe886b99",
   "metadata": {},
   "source": [
    "#### 2. Write a python program for encrypting a message sent to you by your friend. The logic of encryption should be such that, for a the output should be z. For b, the output should be y. For c, the output should bex respectively. Also, the whitespace should be replaced with a dollar sign. Keep the punctuation marks unchanged.\n",
    "\n",
    "#### Input Sentence: I want to become a Data Scientist.\n",
    "\n",
    "#### Encrypt the above input sentence using the program you just created.\n",
    "\n",
    "#### __Note__: Convert the given Input sentence into lowercase before encrypting. The final output should be lowercase."
   ]
  },
  {
   "cell_type": "code",
   "execution_count": 36,
   "id": "e401f479-1b7f-4b95-ae28-668481d61212",
   "metadata": {},
   "outputs": [],
   "source": [
    "String = \"I want to become a Data Scientist.\""
   ]
  },
  {
   "cell_type": "code",
   "execution_count": 37,
   "id": "e51da19a-ebd5-48a7-b371-36582850ac27",
   "metadata": {},
   "outputs": [],
   "source": [
    "import string\n",
    "\n",
    "def function(String):\n",
    "    ans = \"\"\n",
    "    String = String.lower()\n",
    "    for i in String:\n",
    "        if i == \" \":\n",
    "            ans += '$'\n",
    "        elif i in string.punctuation:\n",
    "            ans += i\n",
    "        else:\n",
    "            ans += chr(122 + 97 - ord(i))\n",
    "            \n",
    "    return ans"
   ]
  },
  {
   "cell_type": "code",
   "execution_count": 38,
   "id": "27071472-94ea-41a9-a8f9-178db187c3f7",
   "metadata": {},
   "outputs": [
    {
     "data": {
      "text/plain": [
       "'r$dzmg$gl$yvxlnv$z$wzgz$hxrvmgrhg.'"
      ]
     },
     "execution_count": 38,
     "metadata": {},
     "output_type": "execute_result"
    }
   ],
   "source": [
    "function(String)"
   ]
  },
  {
   "cell_type": "markdown",
   "id": "0f67c022-156f-4fd6-92cb-263c4931798b",
   "metadata": {},
   "source": [
    "***\n",
    "<br>"
   ]
  }
 ],
 "metadata": {
  "kernelspec": {
   "display_name": "Python 3 (ipykernel)",
   "language": "python",
   "name": "python3"
  },
  "language_info": {
   "codemirror_mode": {
    "name": "ipython",
    "version": 3
   },
   "file_extension": ".py",
   "mimetype": "text/x-python",
   "name": "python",
   "nbconvert_exporter": "python",
   "pygments_lexer": "ipython3",
   "version": "3.10.6"
  }
 },
 "nbformat": 4,
 "nbformat_minor": 5
}
